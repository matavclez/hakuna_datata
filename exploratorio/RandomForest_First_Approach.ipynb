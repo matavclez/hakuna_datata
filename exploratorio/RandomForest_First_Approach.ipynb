{
 "cells": [
  {
   "cell_type": "code",
   "execution_count": 14,
   "metadata": {},
   "outputs": [],
   "source": [
    "import numpy as np\n",
    "import pandas as pd\n",
    "from sklearn.model_selection import train_test_split\n",
    "from sklearn.preprocessing import StandardScaler\n",
    "from sklearn.ensemble import RandomForestClassifier\n",
    "from sklearn.metrics import confusion_matrix\n",
    "from sklearn.externals import joblib"
   ]
  },
  {
   "cell_type": "code",
   "execution_count": 27,
   "metadata": {},
   "outputs": [
    {
     "data": {
      "text/html": [
       "<div>\n",
       "<style scoped>\n",
       "    .dataframe tbody tr th:only-of-type {\n",
       "        vertical-align: middle;\n",
       "    }\n",
       "\n",
       "    .dataframe tbody tr th {\n",
       "        vertical-align: top;\n",
       "    }\n",
       "\n",
       "    .dataframe thead th {\n",
       "        text-align: right;\n",
       "    }\n",
       "</style>\n",
       "<table border=\"1\" class=\"dataframe\">\n",
       "  <thead>\n",
       "    <tr style=\"text-align: right;\">\n",
       "      <th></th>\n",
       "      <th>ID</th>\n",
       "      <th>X</th>\n",
       "      <th>Y</th>\n",
       "      <th>Q_R_4_0_0</th>\n",
       "      <th>Q_R_4_0_1</th>\n",
       "      <th>Q_R_4_0_2</th>\n",
       "      <th>Q_R_4_0_3</th>\n",
       "      <th>Q_R_4_0_4</th>\n",
       "      <th>Q_R_4_0_5</th>\n",
       "      <th>Q_R_4_0_6</th>\n",
       "      <th>...</th>\n",
       "      <th>Q_NIR_8_1_0</th>\n",
       "      <th>AREA</th>\n",
       "      <th>GEOM_R1</th>\n",
       "      <th>GEOM_R2</th>\n",
       "      <th>GEOM_R3</th>\n",
       "      <th>GEOM_R4</th>\n",
       "      <th>CONTRUCTIONYEAR</th>\n",
       "      <th>MAXBUILDINGFLOOR</th>\n",
       "      <th>CADASTRALQUALITYID</th>\n",
       "      <th>CLASE</th>\n",
       "    </tr>\n",
       "  </thead>\n",
       "  <tbody>\n",
       "    <tr>\n",
       "      <th>0</th>\n",
       "      <td>35984B9C3E7CD9A1</td>\n",
       "      <td>2207357872</td>\n",
       "      <td>165920300</td>\n",
       "      <td>0.000000</td>\n",
       "      <td>443.001300</td>\n",
       "      <td>616.001697</td>\n",
       "      <td>746.998401</td>\n",
       "      <td>872.996472</td>\n",
       "      <td>1009.000946</td>\n",
       "      <td>1159.002319</td>\n",
       "      <td>...</td>\n",
       "      <td>10951.926645</td>\n",
       "      <td>144.426900</td>\n",
       "      <td>0.557237</td>\n",
       "      <td>0.067249</td>\n",
       "      <td>0.057372</td>\n",
       "      <td>0.853127</td>\n",
       "      <td>2002</td>\n",
       "      <td>0.0</td>\n",
       "      <td>2</td>\n",
       "      <td>RESIDENTIAL</td>\n",
       "    </tr>\n",
       "    <tr>\n",
       "      <th>1</th>\n",
       "      <td>F9D04BF6D037F8FB</td>\n",
       "      <td>2189757160</td>\n",
       "      <td>165463267</td>\n",
       "      <td>0.000059</td>\n",
       "      <td>443.899011</td>\n",
       "      <td>627.999060</td>\n",
       "      <td>770.001611</td>\n",
       "      <td>904.999988</td>\n",
       "      <td>1032.998474</td>\n",
       "      <td>1165.001636</td>\n",
       "      <td>...</td>\n",
       "      <td>7048.367637</td>\n",
       "      <td>38.342550</td>\n",
       "      <td>0.709884</td>\n",
       "      <td>0.125156</td>\n",
       "      <td>0.147929</td>\n",
       "      <td>1.181953</td>\n",
       "      <td>1949</td>\n",
       "      <td>1.0</td>\n",
       "      <td>8</td>\n",
       "      <td>RESIDENTIAL</td>\n",
       "    </tr>\n",
       "    <tr>\n",
       "      <th>2</th>\n",
       "      <td>B89D5711AFF8C423</td>\n",
       "      <td>2240147335</td>\n",
       "      <td>165690752</td>\n",
       "      <td>0.000000</td>\n",
       "      <td>353.502274</td>\n",
       "      <td>523.003601</td>\n",
       "      <td>644.001831</td>\n",
       "      <td>760.997131</td>\n",
       "      <td>876.999634</td>\n",
       "      <td>1006.997498</td>\n",
       "      <td>...</td>\n",
       "      <td>7013.073271</td>\n",
       "      <td>108.794384</td>\n",
       "      <td>0.517702</td>\n",
       "      <td>0.058268</td>\n",
       "      <td>0.081666</td>\n",
       "      <td>1.401552</td>\n",
       "      <td>1986</td>\n",
       "      <td>1.0</td>\n",
       "      <td>5</td>\n",
       "      <td>RESIDENTIAL</td>\n",
       "    </tr>\n",
       "    <tr>\n",
       "      <th>3</th>\n",
       "      <td>1C3478AC1522E7E4</td>\n",
       "      <td>2227146459</td>\n",
       "      <td>165934099</td>\n",
       "      <td>0.000000</td>\n",
       "      <td>268.000613</td>\n",
       "      <td>376.999609</td>\n",
       "      <td>478.003784</td>\n",
       "      <td>575.001233</td>\n",
       "      <td>683.997742</td>\n",
       "      <td>809.005994</td>\n",
       "      <td>...</td>\n",
       "      <td>6216.880538</td>\n",
       "      <td>155.224455</td>\n",
       "      <td>0.450871</td>\n",
       "      <td>0.053591</td>\n",
       "      <td>0.054201</td>\n",
       "      <td>1.011382</td>\n",
       "      <td>1999</td>\n",
       "      <td>1.0</td>\n",
       "      <td>2</td>\n",
       "      <td>RESIDENTIAL</td>\n",
       "    </tr>\n",
       "    <tr>\n",
       "      <th>4</th>\n",
       "      <td>4D12AA5009064345</td>\n",
       "      <td>2212350459</td>\n",
       "      <td>165681791</td>\n",
       "      <td>0.000000</td>\n",
       "      <td>318.997910</td>\n",
       "      <td>492.003845</td>\n",
       "      <td>632.999634</td>\n",
       "      <td>757.002197</td>\n",
       "      <td>882.999908</td>\n",
       "      <td>1019.008911</td>\n",
       "      <td>...</td>\n",
       "      <td>7092.767616</td>\n",
       "      <td>1789.873366</td>\n",
       "      <td>0.458819</td>\n",
       "      <td>0.012858</td>\n",
       "      <td>0.019936</td>\n",
       "      <td>1.550478</td>\n",
       "      <td>1966</td>\n",
       "      <td>8.0</td>\n",
       "      <td>6</td>\n",
       "      <td>RESIDENTIAL</td>\n",
       "    </tr>\n",
       "  </tbody>\n",
       "</table>\n",
       "<p>5 rows × 56 columns</p>\n",
       "</div>"
      ],
      "text/plain": [
       "                 ID           X          Y  Q_R_4_0_0   Q_R_4_0_1   Q_R_4_0_2  \\\n",
       "0  35984B9C3E7CD9A1  2207357872  165920300   0.000000  443.001300  616.001697   \n",
       "1  F9D04BF6D037F8FB  2189757160  165463267   0.000059  443.899011  627.999060   \n",
       "2  B89D5711AFF8C423  2240147335  165690752   0.000000  353.502274  523.003601   \n",
       "3  1C3478AC1522E7E4  2227146459  165934099   0.000000  268.000613  376.999609   \n",
       "4  4D12AA5009064345  2212350459  165681791   0.000000  318.997910  492.003845   \n",
       "\n",
       "    Q_R_4_0_3   Q_R_4_0_4    Q_R_4_0_5    Q_R_4_0_6  ...   Q_NIR_8_1_0  \\\n",
       "0  746.998401  872.996472  1009.000946  1159.002319  ...  10951.926645   \n",
       "1  770.001611  904.999988  1032.998474  1165.001636  ...   7048.367637   \n",
       "2  644.001831  760.997131   876.999634  1006.997498  ...   7013.073271   \n",
       "3  478.003784  575.001233   683.997742   809.005994  ...   6216.880538   \n",
       "4  632.999634  757.002197   882.999908  1019.008911  ...   7092.767616   \n",
       "\n",
       "          AREA   GEOM_R1   GEOM_R2   GEOM_R3   GEOM_R4  CONTRUCTIONYEAR  \\\n",
       "0   144.426900  0.557237  0.067249  0.057372  0.853127             2002   \n",
       "1    38.342550  0.709884  0.125156  0.147929  1.181953             1949   \n",
       "2   108.794384  0.517702  0.058268  0.081666  1.401552             1986   \n",
       "3   155.224455  0.450871  0.053591  0.054201  1.011382             1999   \n",
       "4  1789.873366  0.458819  0.012858  0.019936  1.550478             1966   \n",
       "\n",
       "   MAXBUILDINGFLOOR  CADASTRALQUALITYID        CLASE  \n",
       "0               0.0                   2  RESIDENTIAL  \n",
       "1               1.0                   8  RESIDENTIAL  \n",
       "2               1.0                   5  RESIDENTIAL  \n",
       "3               1.0                   2  RESIDENTIAL  \n",
       "4               8.0                   6  RESIDENTIAL  \n",
       "\n",
       "[5 rows x 56 columns]"
      ]
     },
     "execution_count": 27,
     "metadata": {},
     "output_type": "execute_result"
    }
   ],
   "source": [
    "df = pd.read_csv(\"Modelar_UH2020.txt\", sep = \"|\")\n",
    "df.head()"
   ]
  },
  {
   "cell_type": "code",
   "execution_count": 28,
   "metadata": {},
   "outputs": [],
   "source": [
    "df.dropna(inplace = True)\n",
    "df.isnull().sum().max()\n",
    "\n",
    "df = df[df[\"CADASTRALQUALITYID\"]!=\"A\"]\n",
    "df = df[df[\"CADASTRALQUALITYID\"]!=\"B\"]\n",
    "df = df[df[\"CADASTRALQUALITYID\"]!=\"C\"]\n",
    "\n",
    "df.drop(df[[\"ID\", \"CADASTRALQUALITYID\"]], axis = \"columns\", inplace = True)"
   ]
  },
  {
   "cell_type": "code",
   "execution_count": 29,
   "metadata": {},
   "outputs": [],
   "source": [
    "factor = pd.factorize(df['CLASE'])\n",
    "df.CLASE = factor[0]\n",
    "definitions = factor[1]"
   ]
  },
  {
   "cell_type": "code",
   "execution_count": 30,
   "metadata": {},
   "outputs": [
    {
     "data": {
      "text/plain": [
       "Index(['RESIDENTIAL', 'INDUSTRIAL', 'PUBLIC', 'OFFICE', 'OTHER', 'RETAIL',\n",
       "       'AGRICULTURE'],\n",
       "      dtype='object')"
      ]
     },
     "execution_count": 30,
     "metadata": {},
     "output_type": "execute_result"
    }
   ],
   "source": [
    "definitions"
   ]
  },
  {
   "cell_type": "code",
   "execution_count": 31,
   "metadata": {},
   "outputs": [],
   "source": [
    "X = df.iloc[:, 0:53]\n",
    "Y = df.iloc[:, -1]"
   ]
  },
  {
   "cell_type": "code",
   "execution_count": 32,
   "metadata": {},
   "outputs": [],
   "source": [
    "X_train, X_test, y_train, y_test = train_test_split(X, Y, test_size = 0.3, random_state = 21)"
   ]
  },
  {
   "cell_type": "code",
   "execution_count": 33,
   "metadata": {},
   "outputs": [],
   "source": [
    "scaler = StandardScaler()\n",
    "X_train = scaler.fit_transform(X_train)\n",
    "X_test = scaler.transform(X_test)"
   ]
  },
  {
   "cell_type": "code",
   "execution_count": 34,
   "metadata": {},
   "outputs": [
    {
     "data": {
      "text/plain": [
       "RandomForestClassifier(bootstrap=True, ccp_alpha=0.0, class_weight=None,\n",
       "                       criterion='entropy', max_depth=None, max_features='auto',\n",
       "                       max_leaf_nodes=None, max_samples=None,\n",
       "                       min_impurity_decrease=0.0, min_impurity_split=None,\n",
       "                       min_samples_leaf=1, min_samples_split=2,\n",
       "                       min_weight_fraction_leaf=0.0, n_estimators=10,\n",
       "                       n_jobs=None, oob_score=False, random_state=42, verbose=0,\n",
       "                       warm_start=False)"
      ]
     },
     "execution_count": 34,
     "metadata": {},
     "output_type": "execute_result"
    }
   ],
   "source": [
    "classifier = RandomForestClassifier(n_estimators = 10, criterion = 'entropy', random_state = 42)\n",
    "classifier.fit(X_train, y_train)"
   ]
  },
  {
   "cell_type": "code",
   "execution_count": 35,
   "metadata": {},
   "outputs": [
    {
     "name": "stdout",
     "output_type": "stream",
     "text": [
      "Predicted Species  AGRICULTURE  INDUSTRIAL  OFFICE  OTHER  PUBLIC  \\\n",
      "Actual Species                                                      \n",
      "AGRICULTURE                 36          18       0      0       4   \n",
      "INDUSTRIAL                   5         802      48      6      22   \n",
      "OFFICE                       1          92      70      7      20   \n",
      "OTHER                        0          13       5    134      37   \n",
      "PUBLIC                       4          40      10     30     169   \n",
      "RESIDENTIAL                  7          71      21     26      87   \n",
      "RETAIL                       0          27      15      6      21   \n",
      "\n",
      "Predicted Species  RESIDENTIAL  RETAIL  \n",
      "Actual Species                          \n",
      "AGRICULTURE                 36       1  \n",
      "INDUSTRIAL                 421      24  \n",
      "OFFICE                     357       7  \n",
      "OTHER                      200       5  \n",
      "PUBLIC                     648       9  \n",
      "RESIDENTIAL              26810      22  \n",
      "RETAIL                     388      93  \n"
     ]
    }
   ],
   "source": [
    "# Predicting the Test set results\n",
    "y_pred = classifier.predict(X_test)\n",
    "#Reverse factorize (converting y_pred from 0s,1s and 2s to Iris-setosa, Iris-versicolor and Iris-virginica\n",
    "reversefactor = dict(zip(range(7),definitions))\n",
    "y_test = np.vectorize(reversefactor.get)(y_test)\n",
    "y_pred = np.vectorize(reversefactor.get)(y_pred)\n",
    "# Making the Confusion Matrix\n",
    "print(pd.crosstab(y_test, y_pred, rownames=['Actual Species'], colnames=['Predicted Species']))"
   ]
  },
  {
   "cell_type": "code",
   "execution_count": 37,
   "metadata": {
    "scrolled": true
   },
   "outputs": [
    {
     "name": "stdout",
     "output_type": "stream",
     "text": [
      "[('X', 0.0676523011242738), ('Y', 0.06853241019778487), ('Q_R_4_0_0', 0.002910936924103203), ('Q_R_4_0_1', 0.007348849816646756), ('Q_R_4_0_2', 0.004781528109852162), ('Q_R_4_0_3', 0.0036584753346321254), ('Q_R_4_0_4', 0.0036651938889058827), ('Q_R_4_0_5', 0.005447816768987527), ('Q_R_4_0_6', 0.004790999814773608), ('Q_R_4_0_7', 0.009965282864497391), ('Q_R_4_0_8', 0.0030999796025745416), ('Q_R_4_0_9', 0.004212523811167199), ('Q_R_4_1_0', 0.006320096415437321), ('Q_G_3_0_0', 0.00456248997623309), ('Q_G_3_0_1', 0.008156368778161), ('Q_G_3_0_2', 0.004593490190209813), ('Q_G_3_0_3', 0.004835060423768051), ('Q_G_3_0_4', 0.003521806965108736), ('Q_G_3_0_5', 0.00471725595898491), ('Q_G_3_0_6', 0.0039047655533514785), ('Q_G_3_0_7', 0.006556269621087479), ('Q_G_3_0_8', 0.008041484016560603), ('Q_G_3_0_9', 0.019533543215892138), ('Q_G_3_1_0', 0.005116825911988686), ('Q_B_2_0_0', 0.00485848049416268), ('Q_B_2_0_1', 0.0043176433222884576), ('Q_B_2_0_2', 0.004825905469184824), ('Q_B_2_0_3', 0.006518720201372219), ('Q_B_2_0_4', 0.004661673167711784), ('Q_B_2_0_5', 0.00499117324274361), ('Q_B_2_0_6', 0.004320005712748021), ('Q_B_2_0_7', 0.009580384327473764), ('Q_B_2_0_8', 0.011663895697590227), ('Q_B_2_0_9', 0.014515054105027103), ('Q_B_2_1_0', 0.006331482488526455), ('Q_NIR_8_0_0', 0.00541933171829983), ('Q_NIR_8_0_1', 0.011646752834029139), ('Q_NIR_8_0_2', 0.004961041561470891), ('Q_NIR_8_0_3', 0.007911526442027405), ('Q_NIR_8_0_4', 0.007596898585730604), ('Q_NIR_8_0_5', 0.00822878426979245), ('Q_NIR_8_0_6', 0.006855457278761162), ('Q_NIR_8_0_7', 0.006135565622201199), ('Q_NIR_8_0_8', 0.0063721920974971966), ('Q_NIR_8_0_9', 0.005667568855643093), ('Q_NIR_8_1_0', 0.005665350500414339), ('AREA', 0.1312168056475805), ('GEOM_R1', 0.07755806286710548), ('GEOM_R2', 0.1028243632065367), ('GEOM_R3', 0.09530370572789211), ('GEOM_R4', 0.06086447296597458), ('CONTRUCTIONYEAR', 0.05911516319040361), ('MAXBUILDINGFLOOR', 0.05414678311482802)]\n"
     ]
    },
    {
     "data": {
      "text/plain": [
       "['randomforestmodel.pkl']"
      ]
     },
     "execution_count": 37,
     "metadata": {},
     "output_type": "execute_result"
    }
   ],
   "source": [
    "print(list(zip(df.columns[0:53], classifier.feature_importances_)))\n",
    "joblib.dump(classifier, 'randomforestmodel.pkl') "
   ]
  },
  {
   "cell_type": "code",
   "execution_count": null,
   "metadata": {},
   "outputs": [],
   "source": []
  }
 ],
 "metadata": {
  "kernelspec": {
   "display_name": "Python 3",
   "language": "python",
   "name": "python3"
  },
  "language_info": {
   "codemirror_mode": {
    "name": "ipython",
    "version": 3
   },
   "file_extension": ".py",
   "mimetype": "text/x-python",
   "name": "python",
   "nbconvert_exporter": "python",
   "pygments_lexer": "ipython3",
   "version": "3.7.3"
  }
 },
 "nbformat": 4,
 "nbformat_minor": 2
}
