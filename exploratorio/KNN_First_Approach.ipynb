{
 "cells": [
  {
   "cell_type": "code",
   "execution_count": 1,
   "metadata": {},
   "outputs": [
    {
     "name": "stderr",
     "output_type": "stream",
     "text": [
      "Using TensorFlow backend.\n"
     ]
    }
   ],
   "source": [
    "import pandas as pd\n",
    "import numpy as np\n",
    "import pickle\n",
    "import seaborn as sns\n",
    "from pathlib import Path\n",
    "\n",
    "import matplotlib.pyplot as plt\n",
    "import itertools\n",
    "\n",
    "from keras.preprocessing.text import Tokenizer\n",
    "from keras.models import Sequential, Model\n",
    "from keras.layers import Activation, Dense, Dropout\n",
    "from keras.utils import to_categorical\n",
    "\n",
    "from sklearn.preprocessing import LabelBinarizer\n",
    "from sklearn.model_selection import train_test_split\n",
    "from sklearn.preprocessing import StandardScaler\n",
    "from sklearn.neighbors import KNeighborsClassifier\n",
    "from sklearn.metrics import confusion_matrix\n",
    "from sklearn.metrics import f1_score\n",
    "from sklearn.metrics import accuracy_score\n",
    "\n",
    "from imblearn.over_sampling import RandomOverSampler\n",
    "from imblearn.over_sampling import ADASYN\n",
    "from imblearn.over_sampling import SMOTE\n",
    "\n",
    "# For reproducibility\n",
    "np.random.seed(56)"
   ]
  },
  {
   "cell_type": "code",
   "execution_count": 2,
   "metadata": {
    "scrolled": true
   },
   "outputs": [
    {
     "data": {
      "text/html": [
       "<div>\n",
       "<style scoped>\n",
       "    .dataframe tbody tr th:only-of-type {\n",
       "        vertical-align: middle;\n",
       "    }\n",
       "\n",
       "    .dataframe tbody tr th {\n",
       "        vertical-align: top;\n",
       "    }\n",
       "\n",
       "    .dataframe thead th {\n",
       "        text-align: right;\n",
       "    }\n",
       "</style>\n",
       "<table border=\"1\" class=\"dataframe\">\n",
       "  <thead>\n",
       "    <tr style=\"text-align: right;\">\n",
       "      <th></th>\n",
       "      <th>ID</th>\n",
       "      <th>X</th>\n",
       "      <th>Y</th>\n",
       "      <th>Q_R_4_0_0</th>\n",
       "      <th>Q_R_4_0_1</th>\n",
       "      <th>Q_R_4_0_2</th>\n",
       "      <th>Q_R_4_0_3</th>\n",
       "      <th>Q_R_4_0_4</th>\n",
       "      <th>Q_R_4_0_5</th>\n",
       "      <th>Q_R_4_0_6</th>\n",
       "      <th>...</th>\n",
       "      <th>Q_NIR_8_1_0</th>\n",
       "      <th>AREA</th>\n",
       "      <th>GEOM_R1</th>\n",
       "      <th>GEOM_R2</th>\n",
       "      <th>GEOM_R3</th>\n",
       "      <th>GEOM_R4</th>\n",
       "      <th>CONTRUCTIONYEAR</th>\n",
       "      <th>MAXBUILDINGFLOOR</th>\n",
       "      <th>CADASTRALQUALITYID</th>\n",
       "      <th>CLASE</th>\n",
       "    </tr>\n",
       "  </thead>\n",
       "  <tbody>\n",
       "    <tr>\n",
       "      <th>0</th>\n",
       "      <td>35984B9C3E7CD9A1</td>\n",
       "      <td>2207357872</td>\n",
       "      <td>165920300</td>\n",
       "      <td>0.000000</td>\n",
       "      <td>443.001300</td>\n",
       "      <td>616.001697</td>\n",
       "      <td>746.998401</td>\n",
       "      <td>872.996472</td>\n",
       "      <td>1009.000946</td>\n",
       "      <td>1159.002319</td>\n",
       "      <td>...</td>\n",
       "      <td>10951.926645</td>\n",
       "      <td>144.426900</td>\n",
       "      <td>0.557237</td>\n",
       "      <td>0.067249</td>\n",
       "      <td>0.057372</td>\n",
       "      <td>0.853127</td>\n",
       "      <td>2002</td>\n",
       "      <td>0.0</td>\n",
       "      <td>2</td>\n",
       "      <td>RESIDENTIAL</td>\n",
       "    </tr>\n",
       "    <tr>\n",
       "      <th>1</th>\n",
       "      <td>F9D04BF6D037F8FB</td>\n",
       "      <td>2189757160</td>\n",
       "      <td>165463267</td>\n",
       "      <td>0.000059</td>\n",
       "      <td>443.899011</td>\n",
       "      <td>627.999060</td>\n",
       "      <td>770.001611</td>\n",
       "      <td>904.999988</td>\n",
       "      <td>1032.998474</td>\n",
       "      <td>1165.001636</td>\n",
       "      <td>...</td>\n",
       "      <td>7048.367637</td>\n",
       "      <td>38.342550</td>\n",
       "      <td>0.709884</td>\n",
       "      <td>0.125156</td>\n",
       "      <td>0.147929</td>\n",
       "      <td>1.181953</td>\n",
       "      <td>1949</td>\n",
       "      <td>1.0</td>\n",
       "      <td>8</td>\n",
       "      <td>RESIDENTIAL</td>\n",
       "    </tr>\n",
       "    <tr>\n",
       "      <th>2</th>\n",
       "      <td>B89D5711AFF8C423</td>\n",
       "      <td>2240147335</td>\n",
       "      <td>165690752</td>\n",
       "      <td>0.000000</td>\n",
       "      <td>353.502274</td>\n",
       "      <td>523.003601</td>\n",
       "      <td>644.001831</td>\n",
       "      <td>760.997131</td>\n",
       "      <td>876.999634</td>\n",
       "      <td>1006.997498</td>\n",
       "      <td>...</td>\n",
       "      <td>7013.073271</td>\n",
       "      <td>108.794384</td>\n",
       "      <td>0.517702</td>\n",
       "      <td>0.058268</td>\n",
       "      <td>0.081666</td>\n",
       "      <td>1.401552</td>\n",
       "      <td>1986</td>\n",
       "      <td>1.0</td>\n",
       "      <td>5</td>\n",
       "      <td>RESIDENTIAL</td>\n",
       "    </tr>\n",
       "    <tr>\n",
       "      <th>3</th>\n",
       "      <td>1C3478AC1522E7E4</td>\n",
       "      <td>2227146459</td>\n",
       "      <td>165934099</td>\n",
       "      <td>0.000000</td>\n",
       "      <td>268.000613</td>\n",
       "      <td>376.999609</td>\n",
       "      <td>478.003784</td>\n",
       "      <td>575.001233</td>\n",
       "      <td>683.997742</td>\n",
       "      <td>809.005994</td>\n",
       "      <td>...</td>\n",
       "      <td>6216.880538</td>\n",
       "      <td>155.224455</td>\n",
       "      <td>0.450871</td>\n",
       "      <td>0.053591</td>\n",
       "      <td>0.054201</td>\n",
       "      <td>1.011382</td>\n",
       "      <td>1999</td>\n",
       "      <td>1.0</td>\n",
       "      <td>2</td>\n",
       "      <td>RESIDENTIAL</td>\n",
       "    </tr>\n",
       "    <tr>\n",
       "      <th>4</th>\n",
       "      <td>4D12AA5009064345</td>\n",
       "      <td>2212350459</td>\n",
       "      <td>165681791</td>\n",
       "      <td>0.000000</td>\n",
       "      <td>318.997910</td>\n",
       "      <td>492.003845</td>\n",
       "      <td>632.999634</td>\n",
       "      <td>757.002197</td>\n",
       "      <td>882.999908</td>\n",
       "      <td>1019.008911</td>\n",
       "      <td>...</td>\n",
       "      <td>7092.767616</td>\n",
       "      <td>1789.873366</td>\n",
       "      <td>0.458819</td>\n",
       "      <td>0.012858</td>\n",
       "      <td>0.019936</td>\n",
       "      <td>1.550478</td>\n",
       "      <td>1966</td>\n",
       "      <td>8.0</td>\n",
       "      <td>6</td>\n",
       "      <td>RESIDENTIAL</td>\n",
       "    </tr>\n",
       "  </tbody>\n",
       "</table>\n",
       "<p>5 rows × 56 columns</p>\n",
       "</div>"
      ],
      "text/plain": [
       "                 ID           X          Y  Q_R_4_0_0   Q_R_4_0_1   Q_R_4_0_2  \\\n",
       "0  35984B9C3E7CD9A1  2207357872  165920300   0.000000  443.001300  616.001697   \n",
       "1  F9D04BF6D037F8FB  2189757160  165463267   0.000059  443.899011  627.999060   \n",
       "2  B89D5711AFF8C423  2240147335  165690752   0.000000  353.502274  523.003601   \n",
       "3  1C3478AC1522E7E4  2227146459  165934099   0.000000  268.000613  376.999609   \n",
       "4  4D12AA5009064345  2212350459  165681791   0.000000  318.997910  492.003845   \n",
       "\n",
       "    Q_R_4_0_3   Q_R_4_0_4    Q_R_4_0_5    Q_R_4_0_6  ...   Q_NIR_8_1_0  \\\n",
       "0  746.998401  872.996472  1009.000946  1159.002319  ...  10951.926645   \n",
       "1  770.001611  904.999988  1032.998474  1165.001636  ...   7048.367637   \n",
       "2  644.001831  760.997131   876.999634  1006.997498  ...   7013.073271   \n",
       "3  478.003784  575.001233   683.997742   809.005994  ...   6216.880538   \n",
       "4  632.999634  757.002197   882.999908  1019.008911  ...   7092.767616   \n",
       "\n",
       "          AREA   GEOM_R1   GEOM_R2   GEOM_R3   GEOM_R4  CONTRUCTIONYEAR  \\\n",
       "0   144.426900  0.557237  0.067249  0.057372  0.853127             2002   \n",
       "1    38.342550  0.709884  0.125156  0.147929  1.181953             1949   \n",
       "2   108.794384  0.517702  0.058268  0.081666  1.401552             1986   \n",
       "3   155.224455  0.450871  0.053591  0.054201  1.011382             1999   \n",
       "4  1789.873366  0.458819  0.012858  0.019936  1.550478             1966   \n",
       "\n",
       "   MAXBUILDINGFLOOR  CADASTRALQUALITYID        CLASE  \n",
       "0               0.0                   2  RESIDENTIAL  \n",
       "1               1.0                   8  RESIDENTIAL  \n",
       "2               1.0                   5  RESIDENTIAL  \n",
       "3               1.0                   2  RESIDENTIAL  \n",
       "4               8.0                   6  RESIDENTIAL  \n",
       "\n",
       "[5 rows x 56 columns]"
      ]
     },
     "execution_count": 2,
     "metadata": {},
     "output_type": "execute_result"
    }
   ],
   "source": [
    "df = pd.read_csv(\"Modelar_UH2020.txt\", sep = \"|\")\n",
    "df.head()"
   ]
  },
  {
   "cell_type": "code",
   "execution_count": 3,
   "metadata": {},
   "outputs": [],
   "source": [
    "df.CLASE = pd.Categorical(df.CLASE)\n",
    "df.CLASE = df.CLASE.cat.codes\n",
    "\n",
    "y = to_categorical(df.CLASE)"
   ]
  },
  {
   "cell_type": "code",
   "execution_count": 4,
   "metadata": {},
   "outputs": [],
   "source": [
    "#df.info()"
   ]
  },
  {
   "cell_type": "markdown",
   "metadata": {},
   "source": [
    "### Primera cosa rara... las dimensiones MAXBUILDINGFLOOR y CADASTRALQUALITYID tienen menos registros\n",
    "Me cargo los registros nulos."
   ]
  },
  {
   "cell_type": "code",
   "execution_count": 5,
   "metadata": {},
   "outputs": [],
   "source": [
    "df.dropna(inplace = True)"
   ]
  },
  {
   "cell_type": "code",
   "execution_count": 6,
   "metadata": {},
   "outputs": [
    {
     "data": {
      "text/plain": [
       "0"
      ]
     },
     "execution_count": 6,
     "metadata": {},
     "output_type": "execute_result"
    }
   ],
   "source": [
    "df.isnull().sum().max()"
   ]
  },
  {
   "cell_type": "markdown",
   "metadata": {},
   "source": [
    "Al carrer"
   ]
  },
  {
   "cell_type": "code",
   "execution_count": 7,
   "metadata": {
    "scrolled": true
   },
   "outputs": [],
   "source": [
    "df = df[df[\"CADASTRALQUALITYID\"]!=\"A\"]\n",
    "df = df[df[\"CADASTRALQUALITYID\"]!=\"B\"]\n",
    "df = df[df[\"CADASTRALQUALITYID\"]!=\"C\"]"
   ]
  },
  {
   "cell_type": "markdown",
   "metadata": {},
   "source": [
    "### Me cargo las categóricas\n"
   ]
  },
  {
   "cell_type": "code",
   "execution_count": 8,
   "metadata": {},
   "outputs": [],
   "source": [
    "df.drop(df[[\"ID\", \"CADASTRALQUALITYID\"]], axis = \"columns\", inplace = True)"
   ]
  },
  {
   "cell_type": "code",
   "execution_count": 9,
   "metadata": {},
   "outputs": [
    {
     "data": {
      "text/html": [
       "<div>\n",
       "<style scoped>\n",
       "    .dataframe tbody tr th:only-of-type {\n",
       "        vertical-align: middle;\n",
       "    }\n",
       "\n",
       "    .dataframe tbody tr th {\n",
       "        vertical-align: top;\n",
       "    }\n",
       "\n",
       "    .dataframe thead th {\n",
       "        text-align: right;\n",
       "    }\n",
       "</style>\n",
       "<table border=\"1\" class=\"dataframe\">\n",
       "  <thead>\n",
       "    <tr style=\"text-align: right;\">\n",
       "      <th></th>\n",
       "      <th>X</th>\n",
       "      <th>Y</th>\n",
       "      <th>Q_R_4_0_0</th>\n",
       "      <th>Q_R_4_0_1</th>\n",
       "      <th>Q_R_4_0_2</th>\n",
       "      <th>Q_R_4_0_3</th>\n",
       "      <th>Q_R_4_0_4</th>\n",
       "      <th>Q_R_4_0_5</th>\n",
       "      <th>Q_R_4_0_6</th>\n",
       "      <th>Q_R_4_0_7</th>\n",
       "      <th>...</th>\n",
       "      <th>Q_NIR_8_0_9</th>\n",
       "      <th>Q_NIR_8_1_0</th>\n",
       "      <th>AREA</th>\n",
       "      <th>GEOM_R1</th>\n",
       "      <th>GEOM_R2</th>\n",
       "      <th>GEOM_R3</th>\n",
       "      <th>GEOM_R4</th>\n",
       "      <th>CONTRUCTIONYEAR</th>\n",
       "      <th>MAXBUILDINGFLOOR</th>\n",
       "      <th>CLASE</th>\n",
       "    </tr>\n",
       "  </thead>\n",
       "  <tbody>\n",
       "    <tr>\n",
       "      <th>0</th>\n",
       "      <td>2207357872</td>\n",
       "      <td>165920300</td>\n",
       "      <td>0.000000</td>\n",
       "      <td>443.001300</td>\n",
       "      <td>616.001697</td>\n",
       "      <td>746.998401</td>\n",
       "      <td>872.996472</td>\n",
       "      <td>1009.000946</td>\n",
       "      <td>1159.002319</td>\n",
       "      <td>1342.002466</td>\n",
       "      <td>...</td>\n",
       "      <td>3180.000342</td>\n",
       "      <td>10951.926645</td>\n",
       "      <td>144.426900</td>\n",
       "      <td>0.557237</td>\n",
       "      <td>0.067249</td>\n",
       "      <td>0.057372</td>\n",
       "      <td>0.853127</td>\n",
       "      <td>2002</td>\n",
       "      <td>0.0</td>\n",
       "      <td>5</td>\n",
       "    </tr>\n",
       "    <tr>\n",
       "      <th>1</th>\n",
       "      <td>2189757160</td>\n",
       "      <td>165463267</td>\n",
       "      <td>0.000059</td>\n",
       "      <td>443.899011</td>\n",
       "      <td>627.999060</td>\n",
       "      <td>770.001611</td>\n",
       "      <td>904.999988</td>\n",
       "      <td>1032.998474</td>\n",
       "      <td>1165.001636</td>\n",
       "      <td>1316.000110</td>\n",
       "      <td>...</td>\n",
       "      <td>3012.991675</td>\n",
       "      <td>7048.367637</td>\n",
       "      <td>38.342550</td>\n",
       "      <td>0.709884</td>\n",
       "      <td>0.125156</td>\n",
       "      <td>0.147929</td>\n",
       "      <td>1.181953</td>\n",
       "      <td>1949</td>\n",
       "      <td>1.0</td>\n",
       "      <td>5</td>\n",
       "    </tr>\n",
       "    <tr>\n",
       "      <th>2</th>\n",
       "      <td>2240147335</td>\n",
       "      <td>165690752</td>\n",
       "      <td>0.000000</td>\n",
       "      <td>353.502274</td>\n",
       "      <td>523.003601</td>\n",
       "      <td>644.001831</td>\n",
       "      <td>760.997131</td>\n",
       "      <td>876.999634</td>\n",
       "      <td>1006.997498</td>\n",
       "      <td>1168.995544</td>\n",
       "      <td>...</td>\n",
       "      <td>3088.000488</td>\n",
       "      <td>7013.073271</td>\n",
       "      <td>108.794384</td>\n",
       "      <td>0.517702</td>\n",
       "      <td>0.058268</td>\n",
       "      <td>0.081666</td>\n",
       "      <td>1.401552</td>\n",
       "      <td>1986</td>\n",
       "      <td>1.0</td>\n",
       "      <td>5</td>\n",
       "    </tr>\n",
       "    <tr>\n",
       "      <th>3</th>\n",
       "      <td>2227146459</td>\n",
       "      <td>165934099</td>\n",
       "      <td>0.000000</td>\n",
       "      <td>268.000613</td>\n",
       "      <td>376.999609</td>\n",
       "      <td>478.003784</td>\n",
       "      <td>575.001233</td>\n",
       "      <td>683.997742</td>\n",
       "      <td>809.005994</td>\n",
       "      <td>955.002960</td>\n",
       "      <td>...</td>\n",
       "      <td>3349.986328</td>\n",
       "      <td>6216.880538</td>\n",
       "      <td>155.224455</td>\n",
       "      <td>0.450871</td>\n",
       "      <td>0.053591</td>\n",
       "      <td>0.054201</td>\n",
       "      <td>1.011382</td>\n",
       "      <td>1999</td>\n",
       "      <td>1.0</td>\n",
       "      <td>5</td>\n",
       "    </tr>\n",
       "    <tr>\n",
       "      <th>4</th>\n",
       "      <td>2212350459</td>\n",
       "      <td>165681791</td>\n",
       "      <td>0.000000</td>\n",
       "      <td>318.997910</td>\n",
       "      <td>492.003845</td>\n",
       "      <td>632.999634</td>\n",
       "      <td>757.002197</td>\n",
       "      <td>882.999908</td>\n",
       "      <td>1019.008911</td>\n",
       "      <td>1175.993103</td>\n",
       "      <td>...</td>\n",
       "      <td>2315.991455</td>\n",
       "      <td>7092.767616</td>\n",
       "      <td>1789.873366</td>\n",
       "      <td>0.458819</td>\n",
       "      <td>0.012858</td>\n",
       "      <td>0.019936</td>\n",
       "      <td>1.550478</td>\n",
       "      <td>1966</td>\n",
       "      <td>8.0</td>\n",
       "      <td>5</td>\n",
       "    </tr>\n",
       "  </tbody>\n",
       "</table>\n",
       "<p>5 rows × 54 columns</p>\n",
       "</div>"
      ],
      "text/plain": [
       "            X          Y  Q_R_4_0_0   Q_R_4_0_1   Q_R_4_0_2   Q_R_4_0_3  \\\n",
       "0  2207357872  165920300   0.000000  443.001300  616.001697  746.998401   \n",
       "1  2189757160  165463267   0.000059  443.899011  627.999060  770.001611   \n",
       "2  2240147335  165690752   0.000000  353.502274  523.003601  644.001831   \n",
       "3  2227146459  165934099   0.000000  268.000613  376.999609  478.003784   \n",
       "4  2212350459  165681791   0.000000  318.997910  492.003845  632.999634   \n",
       "\n",
       "    Q_R_4_0_4    Q_R_4_0_5    Q_R_4_0_6    Q_R_4_0_7  ...  Q_NIR_8_0_9  \\\n",
       "0  872.996472  1009.000946  1159.002319  1342.002466  ...  3180.000342   \n",
       "1  904.999988  1032.998474  1165.001636  1316.000110  ...  3012.991675   \n",
       "2  760.997131   876.999634  1006.997498  1168.995544  ...  3088.000488   \n",
       "3  575.001233   683.997742   809.005994   955.002960  ...  3349.986328   \n",
       "4  757.002197   882.999908  1019.008911  1175.993103  ...  2315.991455   \n",
       "\n",
       "    Q_NIR_8_1_0         AREA   GEOM_R1   GEOM_R2   GEOM_R3   GEOM_R4  \\\n",
       "0  10951.926645   144.426900  0.557237  0.067249  0.057372  0.853127   \n",
       "1   7048.367637    38.342550  0.709884  0.125156  0.147929  1.181953   \n",
       "2   7013.073271   108.794384  0.517702  0.058268  0.081666  1.401552   \n",
       "3   6216.880538   155.224455  0.450871  0.053591  0.054201  1.011382   \n",
       "4   7092.767616  1789.873366  0.458819  0.012858  0.019936  1.550478   \n",
       "\n",
       "   CONTRUCTIONYEAR  MAXBUILDINGFLOOR  CLASE  \n",
       "0             2002               0.0      5  \n",
       "1             1949               1.0      5  \n",
       "2             1986               1.0      5  \n",
       "3             1999               1.0      5  \n",
       "4             1966               8.0      5  \n",
       "\n",
       "[5 rows x 54 columns]"
      ]
     },
     "execution_count": 9,
     "metadata": {},
     "output_type": "execute_result"
    }
   ],
   "source": [
    "df.head()"
   ]
  },
  {
   "cell_type": "code",
   "execution_count": 10,
   "metadata": {},
   "outputs": [
    {
     "name": "stdout",
     "output_type": "stream",
     "text": [
      "[5, 1, 4, 2, 3, 6, 0]\n"
     ]
    }
   ],
   "source": [
    "clases = df[\"CLASE\"].unique().tolist()\n",
    "print(clases)"
   ]
  },
  {
   "cell_type": "markdown",
   "metadata": {},
   "source": [
    "### Comprobamos lo \"no balanceado\" que está el dataset."
   ]
  },
  {
   "cell_type": "code",
   "execution_count": 11,
   "metadata": {
    "scrolled": true
   },
   "outputs": [
    {
     "data": {
      "text/plain": [
       "5    90048\n",
       "1     4452\n",
       "4     2915\n",
       "6     2072\n",
       "2     1784\n",
       "3     1330\n",
       "0      313\n",
       "Name: CLASE, dtype: int64"
      ]
     },
     "execution_count": 11,
     "metadata": {},
     "output_type": "execute_result"
    }
   ],
   "source": [
    "df[\"CLASE\"].value_counts()"
   ]
  },
  {
   "cell_type": "code",
   "execution_count": 12,
   "metadata": {
    "scrolled": true
   },
   "outputs": [
    {
     "name": "stdout",
     "output_type": "stream",
     "text": [
      "AGRICULTURE 0.3 % of the dataset\n",
      "INDUSTRIAL 4.33 % of the dataset\n",
      "OFFICE 1.73 % of the dataset\n",
      "OTHER 1.29 % of the dataset\n",
      "PUBLIC 2.83 % of the dataset\n",
      "RESIDENTIAL 87.5 % of the dataset\n",
      "RETAIL 2.01 % of the dataset\n"
     ]
    }
   ],
   "source": [
    "print('AGRICULTURE', round(df['CLASE'].value_counts()[0]/len(df) * 100,2), '% of the dataset')\n",
    "print('INDUSTRIAL', round(df['CLASE'].value_counts()[1]/len(df) * 100,2), '% of the dataset')\n",
    "print('OFFICE', round(df['CLASE'].value_counts()[2]/len(df) * 100,2), '% of the dataset')\n",
    "print('OTHER', round(df['CLASE'].value_counts()[3]/len(df) * 100,2), '% of the dataset')\n",
    "print('PUBLIC', round(df['CLASE'].value_counts()[4]/len(df) * 100,2), '% of the dataset')\n",
    "print('RESIDENTIAL', round(df['CLASE'].value_counts()[5]/len(df) * 100,2), '% of the dataset')\n",
    "print('RETAIL', round(df['CLASE'].value_counts()[6]/len(df) * 100,2), '% of the dataset')"
   ]
  },
  {
   "cell_type": "code",
   "execution_count": 13,
   "metadata": {},
   "outputs": [
    {
     "data": {
      "text/plain": [
       "<matplotlib.axes._subplots.AxesSubplot at 0x17e4c518>"
      ]
     },
     "execution_count": 13,
     "metadata": {},
     "output_type": "execute_result"
    },
    {
     "data": {
      "image/png": "[encoded data removed]",
      "text/plain": [
       "<Figure size 432x288 with 1 Axes>"
      ]
     },
     "metadata": {
      "needs_background": "light"
     },
     "output_type": "display_data"
    }
   ],
   "source": [
    "sns.countplot('CLASE', data=df)"
   ]
  },
  {
   "cell_type": "markdown",
   "metadata": {},
   "source": [
    "### Siguiente paso: limpieza de outliers"
   ]
  },
  {
   "cell_type": "code",
   "execution_count": 14,
   "metadata": {},
   "outputs": [],
   "source": [
    "cl_df = df.copy()"
   ]
  },
  {
   "cell_type": "code",
   "execution_count": 15,
   "metadata": {},
   "outputs": [
    {
     "data": {
      "text/plain": [
       "<matplotlib.axes._subplots.AxesSubplot at 0x17f1b278>"
      ]
     },
     "execution_count": 15,
     "metadata": {},
     "output_type": "execute_result"
    },
    {
     "data": {
      "image/png": "[encoded data removed]",
      "text/plain": [
       "<Figure size 432x288 with 1 Axes>"
      ]
     },
     "metadata": {
      "needs_background": "light"
     },
     "output_type": "display_data"
    }
   ],
   "source": [
    "sns.boxplot(x=cl_df['Q_R_4_0_0'])"
   ]
  },
  {
   "cell_type": "markdown",
   "metadata": {},
   "source": [
    "Voy a limpiar los outliers filtrando por CLASE. Al ppio he limpiado outliers sin distinguir por clase, y me reventaba la proporción. La clase 0 y 1 desaparecían, eran todo outliers..."
   ]
  },
  {
   "cell_type": "code",
   "execution_count": 16,
   "metadata": {},
   "outputs": [],
   "source": [
    "#Proceso de outliers para todo:\n",
    "#z = np.abs(stats.zscore(cl_df))\n",
    "#cl_df_o = cl_df[(z < threshold).all(axis=1)]\n"
   ]
  },
  {
   "cell_type": "code",
   "execution_count": 17,
   "metadata": {},
   "outputs": [
    {
     "data": {
      "text/plain": [
       "{'divide': 'warn', 'over': 'warn', 'under': 'ignore', 'invalid': 'warn'}"
      ]
     },
     "execution_count": 17,
     "metadata": {},
     "output_type": "execute_result"
    }
   ],
   "source": [
    "np.seterr(divide='ignore', invalid='ignore')"
   ]
  },
  {
   "cell_type": "code",
   "execution_count": 18,
   "metadata": {},
   "outputs": [
    {
     "data": {
      "text/html": [
       "<div>\n",
       "<style scoped>\n",
       "    .dataframe tbody tr th:only-of-type {\n",
       "        vertical-align: middle;\n",
       "    }\n",
       "\n",
       "    .dataframe tbody tr th {\n",
       "        vertical-align: top;\n",
       "    }\n",
       "\n",
       "    .dataframe thead th {\n",
       "        text-align: right;\n",
       "    }\n",
       "</style>\n",
       "<table border=\"1\" class=\"dataframe\">\n",
       "  <thead>\n",
       "    <tr style=\"text-align: right;\">\n",
       "      <th></th>\n",
       "      <th>X</th>\n",
       "      <th>Y</th>\n",
       "      <th>Q_R_4_0_0</th>\n",
       "      <th>Q_R_4_0_1</th>\n",
       "      <th>Q_R_4_0_2</th>\n",
       "      <th>Q_R_4_0_3</th>\n",
       "      <th>Q_R_4_0_4</th>\n",
       "      <th>Q_R_4_0_5</th>\n",
       "      <th>Q_R_4_0_6</th>\n",
       "      <th>Q_R_4_0_7</th>\n",
       "      <th>...</th>\n",
       "      <th>Q_NIR_8_0_9</th>\n",
       "      <th>Q_NIR_8_1_0</th>\n",
       "      <th>AREA</th>\n",
       "      <th>GEOM_R1</th>\n",
       "      <th>GEOM_R2</th>\n",
       "      <th>GEOM_R3</th>\n",
       "      <th>GEOM_R4</th>\n",
       "      <th>CONTRUCTIONYEAR</th>\n",
       "      <th>MAXBUILDINGFLOOR</th>\n",
       "      <th>CLASE</th>\n",
       "    </tr>\n",
       "  </thead>\n",
       "  <tbody>\n",
       "    <tr>\n",
       "      <th>322</th>\n",
       "      <td>2197577861</td>\n",
       "      <td>165936157</td>\n",
       "      <td>0.000000e+00</td>\n",
       "      <td>547.999719</td>\n",
       "      <td>658.000720</td>\n",
       "      <td>744.002570</td>\n",
       "      <td>825.000037</td>\n",
       "      <td>905.998535</td>\n",
       "      <td>993.999573</td>\n",
       "      <td>1105.999500</td>\n",
       "      <td>...</td>\n",
       "      <td>2927.997778</td>\n",
       "      <td>6119.452051</td>\n",
       "      <td>49.77635</td>\n",
       "      <td>0.418703</td>\n",
       "      <td>0.096061</td>\n",
       "      <td>0.087566</td>\n",
       "      <td>0.911559</td>\n",
       "      <td>1972</td>\n",
       "      <td>1.0</td>\n",
       "      <td>0</td>\n",
       "    </tr>\n",
       "    <tr>\n",
       "      <th>917</th>\n",
       "      <td>2217736847</td>\n",
       "      <td>165974592</td>\n",
       "      <td>0.000000e+00</td>\n",
       "      <td>262.999878</td>\n",
       "      <td>419.999402</td>\n",
       "      <td>576.000446</td>\n",
       "      <td>714.997888</td>\n",
       "      <td>853.998657</td>\n",
       "      <td>1014.995728</td>\n",
       "      <td>1211.997327</td>\n",
       "      <td>...</td>\n",
       "      <td>2893.996802</td>\n",
       "      <td>8283.026618</td>\n",
       "      <td>283.92985</td>\n",
       "      <td>0.020315</td>\n",
       "      <td>0.006143</td>\n",
       "      <td>0.011648</td>\n",
       "      <td>1.896331</td>\n",
       "      <td>1970</td>\n",
       "      <td>1.0</td>\n",
       "      <td>0</td>\n",
       "    </tr>\n",
       "    <tr>\n",
       "      <th>975</th>\n",
       "      <td>2276414867</td>\n",
       "      <td>165894095</td>\n",
       "      <td>0.000000e+00</td>\n",
       "      <td>463.004102</td>\n",
       "      <td>659.002795</td>\n",
       "      <td>781.003503</td>\n",
       "      <td>896.000037</td>\n",
       "      <td>1017.000336</td>\n",
       "      <td>1158.995068</td>\n",
       "      <td>1335.999243</td>\n",
       "      <td>...</td>\n",
       "      <td>3256.998389</td>\n",
       "      <td>7368.409099</td>\n",
       "      <td>694.82996</td>\n",
       "      <td>0.107754</td>\n",
       "      <td>0.012219</td>\n",
       "      <td>0.012692</td>\n",
       "      <td>1.038730</td>\n",
       "      <td>2012</td>\n",
       "      <td>2.0</td>\n",
       "      <td>0</td>\n",
       "    </tr>\n",
       "    <tr>\n",
       "      <th>1000</th>\n",
       "      <td>2134138279</td>\n",
       "      <td>165924322</td>\n",
       "      <td>2.267414e-03</td>\n",
       "      <td>533.001392</td>\n",
       "      <td>613.999878</td>\n",
       "      <td>670.999329</td>\n",
       "      <td>729.998694</td>\n",
       "      <td>804.000824</td>\n",
       "      <td>898.999402</td>\n",
       "      <td>1021.001392</td>\n",
       "      <td>...</td>\n",
       "      <td>2831.996167</td>\n",
       "      <td>4889.337995</td>\n",
       "      <td>58.05681</td>\n",
       "      <td>0.667435</td>\n",
       "      <td>0.136231</td>\n",
       "      <td>0.084388</td>\n",
       "      <td>0.619451</td>\n",
       "      <td>1990</td>\n",
       "      <td>4.0</td>\n",
       "      <td>0</td>\n",
       "    </tr>\n",
       "    <tr>\n",
       "      <th>1516</th>\n",
       "      <td>2262635252</td>\n",
       "      <td>165306155</td>\n",
       "      <td>4.509644e-07</td>\n",
       "      <td>562.000458</td>\n",
       "      <td>720.999756</td>\n",
       "      <td>822.001953</td>\n",
       "      <td>913.001221</td>\n",
       "      <td>1024.999084</td>\n",
       "      <td>1164.000244</td>\n",
       "      <td>1337.000366</td>\n",
       "      <td>...</td>\n",
       "      <td>2650.998291</td>\n",
       "      <td>6604.024144</td>\n",
       "      <td>879.82035</td>\n",
       "      <td>0.424188</td>\n",
       "      <td>0.029762</td>\n",
       "      <td>0.016200</td>\n",
       "      <td>0.544306</td>\n",
       "      <td>1991</td>\n",
       "      <td>1.0</td>\n",
       "      <td>0</td>\n",
       "    </tr>\n",
       "  </tbody>\n",
       "</table>\n",
       "<p>5 rows × 54 columns</p>\n",
       "</div>"
      ],
      "text/plain": [
       "               X          Y     Q_R_4_0_0   Q_R_4_0_1   Q_R_4_0_2   Q_R_4_0_3  \\\n",
       "322   2197577861  165936157  0.000000e+00  547.999719  658.000720  744.002570   \n",
       "917   2217736847  165974592  0.000000e+00  262.999878  419.999402  576.000446   \n",
       "975   2276414867  165894095  0.000000e+00  463.004102  659.002795  781.003503   \n",
       "1000  2134138279  165924322  2.267414e-03  533.001392  613.999878  670.999329   \n",
       "1516  2262635252  165306155  4.509644e-07  562.000458  720.999756  822.001953   \n",
       "\n",
       "       Q_R_4_0_4    Q_R_4_0_5    Q_R_4_0_6    Q_R_4_0_7  ...  Q_NIR_8_0_9  \\\n",
       "322   825.000037   905.998535   993.999573  1105.999500  ...  2927.997778   \n",
       "917   714.997888   853.998657  1014.995728  1211.997327  ...  2893.996802   \n",
       "975   896.000037  1017.000336  1158.995068  1335.999243  ...  3256.998389   \n",
       "1000  729.998694   804.000824   898.999402  1021.001392  ...  2831.996167   \n",
       "1516  913.001221  1024.999084  1164.000244  1337.000366  ...  2650.998291   \n",
       "\n",
       "      Q_NIR_8_1_0       AREA   GEOM_R1   GEOM_R2   GEOM_R3   GEOM_R4  \\\n",
       "322   6119.452051   49.77635  0.418703  0.096061  0.087566  0.911559   \n",
       "917   8283.026618  283.92985  0.020315  0.006143  0.011648  1.896331   \n",
       "975   7368.409099  694.82996  0.107754  0.012219  0.012692  1.038730   \n",
       "1000  4889.337995   58.05681  0.667435  0.136231  0.084388  0.619451   \n",
       "1516  6604.024144  879.82035  0.424188  0.029762  0.016200  0.544306   \n",
       "\n",
       "      CONTRUCTIONYEAR  MAXBUILDINGFLOOR  CLASE  \n",
       "322              1972               1.0      0  \n",
       "917              1970               1.0      0  \n",
       "975              2012               2.0      0  \n",
       "1000             1990               4.0      0  \n",
       "1516             1991               1.0      0  \n",
       "\n",
       "[5 rows x 54 columns]"
      ]
     },
     "execution_count": 18,
     "metadata": {},
     "output_type": "execute_result"
    }
   ],
   "source": [
    "df_0 = cl_df[cl_df[\"CLASE\"]==0]\n",
    "df_0.head()"
   ]
  },
  {
   "cell_type": "code",
   "execution_count": 186,
   "metadata": {},
   "outputs": [
    {
     "name": "stdout",
     "output_type": "stream",
     "text": [
      "[[0.41876561 0.30685375 0.45955359 ... 0.47528198 0.47386826        nan]\n",
      " [0.09160602 0.41607217 0.45955359 ... 0.59935476 0.47386826        nan]\n",
      " [1.57717663 0.1873287  0.45955359 ... 2.00617357 0.13368302        nan]\n",
      " ...\n",
      " [0.97220121 1.44121357 0.0845417  ... 0.51730024 0.47386826        nan]\n",
      " [0.35266103 0.79525488 0.4051794  ... 0.9095367  0.47386826        nan]\n",
      " [0.35837217 1.86028011 0.45955359 ... 2.19228274 1.22705794        nan]]\n"
     ]
    }
   ],
   "source": [
    "z0 = np.abs(stats.zscore(df_0))\n",
    "print(z0)"
   ]
  },
  {
   "cell_type": "code",
   "execution_count": 206,
   "metadata": {},
   "outputs": [
    {
     "data": {
      "text/html": [
       "<div>\n",
       "<style scoped>\n",
       "    .dataframe tbody tr th:only-of-type {\n",
       "        vertical-align: middle;\n",
       "    }\n",
       "\n",
       "    .dataframe tbody tr th {\n",
       "        vertical-align: top;\n",
       "    }\n",
       "\n",
       "    .dataframe thead th {\n",
       "        text-align: right;\n",
       "    }\n",
       "</style>\n",
       "<table border=\"1\" class=\"dataframe\">\n",
       "  <thead>\n",
       "    <tr style=\"text-align: right;\">\n",
       "      <th></th>\n",
       "      <th>X</th>\n",
       "      <th>Y</th>\n",
       "      <th>Q_R_4_0_0</th>\n",
       "      <th>Q_R_4_0_1</th>\n",
       "      <th>Q_R_4_0_2</th>\n",
       "      <th>Q_R_4_0_3</th>\n",
       "      <th>Q_R_4_0_4</th>\n",
       "      <th>Q_R_4_0_5</th>\n",
       "      <th>Q_R_4_0_6</th>\n",
       "      <th>Q_R_4_0_7</th>\n",
       "      <th>...</th>\n",
       "      <th>Q_NIR_8_0_9</th>\n",
       "      <th>Q_NIR_8_1_0</th>\n",
       "      <th>AREA</th>\n",
       "      <th>GEOM_R1</th>\n",
       "      <th>GEOM_R2</th>\n",
       "      <th>GEOM_R3</th>\n",
       "      <th>GEOM_R4</th>\n",
       "      <th>CONTRUCTIONYEAR</th>\n",
       "      <th>MAXBUILDINGFLOOR</th>\n",
       "      <th>CLASE</th>\n",
       "    </tr>\n",
       "  </thead>\n",
       "  <tbody>\n",
       "  </tbody>\n",
       "</table>\n",
       "<p>0 rows × 54 columns</p>\n",
       "</div>"
      ],
      "text/plain": [
       "Empty DataFrame\n",
       "Columns: [X, Y, Q_R_4_0_0, Q_R_4_0_1, Q_R_4_0_2, Q_R_4_0_3, Q_R_4_0_4, Q_R_4_0_5, Q_R_4_0_6, Q_R_4_0_7, Q_R_4_0_8, Q_R_4_0_9, Q_R_4_1_0, Q_G_3_0_0, Q_G_3_0_1, Q_G_3_0_2, Q_G_3_0_3, Q_G_3_0_4, Q_G_3_0_5, Q_G_3_0_6, Q_G_3_0_7, Q_G_3_0_8, Q_G_3_0_9, Q_G_3_1_0, Q_B_2_0_0, Q_B_2_0_1, Q_B_2_0_2, Q_B_2_0_3, Q_B_2_0_4, Q_B_2_0_5, Q_B_2_0_6, Q_B_2_0_7, Q_B_2_0_8, Q_B_2_0_9, Q_B_2_1_0, Q_NIR_8_0_0, Q_NIR_8_0_1, Q_NIR_8_0_2, Q_NIR_8_0_3, Q_NIR_8_0_4, Q_NIR_8_0_5, Q_NIR_8_0_6, Q_NIR_8_0_7, Q_NIR_8_0_8, Q_NIR_8_0_9, Q_NIR_8_1_0, AREA, GEOM_R1, GEOM_R2, GEOM_R3, GEOM_R4, CONTRUCTIONYEAR, MAXBUILDINGFLOOR, CLASE]\n",
       "Index: []\n",
       "\n",
       "[0 rows x 54 columns]"
      ]
     },
     "execution_count": 206,
     "metadata": {},
     "output_type": "execute_result"
    }
   ],
   "source": [
    "df_0[(z0 < threshold).all(axis=1)]"
   ]
  },
  {
   "cell_type": "code",
   "execution_count": 203,
   "metadata": {},
   "outputs": [],
   "source": [
    "df_0 = cl_df[cl_df[\"CLASE\"]==0]\n",
    "df_1 = cl_df[cl_df[\"CLASE\"]==1]\n",
    "df_2 = cl_df[cl_df[\"CLASE\"]==2]\n",
    "df_3 = cl_df[cl_df[\"CLASE\"]==3]\n",
    "df_4 = cl_df[cl_df[\"CLASE\"]==4]\n",
    "df_5 = cl_df[cl_df[\"CLASE\"]==5]\n",
    "df_6 = cl_df[cl_df[\"CLASE\"]==6]"
   ]
  },
  {
   "cell_type": "code",
   "execution_count": 148,
   "metadata": {
    "scrolled": true
   },
   "outputs": [],
   "source": [
    "from scipy import stats\n",
    "\n",
    "z0 = np.abs(stats.zscore(df_0))\n",
    "z1 = np.abs(stats.zscore(df_1))\n",
    "z2 = np.abs(stats.zscore(df_2))\n",
    "z3 = np.abs(stats.zscore(df_3))\n",
    "z4 = np.abs(stats.zscore(df_4))\n",
    "z5 = np.abs(stats.zscore(df_5))\n",
    "z6 = np.abs(stats.zscore(df_6))\n",
    "\n",
    "threshold = 3"
   ]
  },
  {
   "cell_type": "code",
   "execution_count": 157,
   "metadata": {},
   "outputs": [],
   "source": [
    "df_0 = df_0[(z0 < threshold).all(axis=1)]\n",
    "\n",
    "#df_1 = df_1[(z1 < 3).all(axis=1)]\n",
    "#df_2 = df_2[(z2 < 3).all(axis=1)]\n",
    "#df_3 = df_3[(z3 < 3).all(axis=1)]\n",
    "#df_4 = df_4[(z4 < 3).all(axis=1)]\n",
    "#df_5 = df_5[(z5 < 3).all(axis=1)]\n",
    "#df_6 = df_6[(z6 < 3).all(axis=1)]"
   ]
  },
  {
   "cell_type": "code",
   "execution_count": 83,
   "metadata": {},
   "outputs": [
    {
     "data": {
      "text/plain": [
       "(0, 54)"
      ]
     },
     "execution_count": 83,
     "metadata": {},
     "output_type": "execute_result"
    }
   ],
   "source": [
    "df_0.shape"
   ]
  },
  {
   "cell_type": "code",
   "execution_count": null,
   "metadata": {},
   "outputs": [],
   "source": []
  },
  {
   "cell_type": "code",
   "execution_count": null,
   "metadata": {},
   "outputs": [],
   "source": []
  },
  {
   "cell_type": "code",
   "execution_count": null,
   "metadata": {},
   "outputs": [],
   "source": []
  },
  {
   "cell_type": "code",
   "execution_count": null,
   "metadata": {},
   "outputs": [],
   "source": []
  },
  {
   "cell_type": "code",
   "execution_count": 158,
   "metadata": {},
   "outputs": [],
   "source": [
    "cl_df_o = cl_df[(z < 3).all(axis=1)]"
   ]
  },
  {
   "cell_type": "code",
   "execution_count": 27,
   "metadata": {},
   "outputs": [
    {
     "data": {
      "text/plain": [
       "(77456, 54)"
      ]
     },
     "execution_count": 27,
     "metadata": {},
     "output_type": "execute_result"
    }
   ],
   "source": [
    "cl_df_o.shape"
   ]
  },
  {
   "cell_type": "code",
   "execution_count": 28,
   "metadata": {},
   "outputs": [
    {
     "data": {
      "text/plain": [
       "(102914, 54)"
      ]
     },
     "execution_count": 28,
     "metadata": {},
     "output_type": "execute_result"
    }
   ],
   "source": [
    "cl_df.shape"
   ]
  },
  {
   "cell_type": "code",
   "execution_count": 63,
   "metadata": {},
   "outputs": [
    {
     "data": {
      "text/plain": [
       "<matplotlib.axes._subplots.AxesSubplot at 0x182ab5c0>"
      ]
     },
     "execution_count": 63,
     "metadata": {},
     "output_type": "execute_result"
    },
    {
     "data": {
      "image/png": "[encoded data removed]",
      "text/plain": [
       "<Figure size 432x288 with 1 Axes>"
      ]
     },
     "metadata": {
      "needs_background": "light"
     },
     "output_type": "display_data"
    }
   ],
   "source": [
    "sns.countplot('CLASE', data=cl_df_o)"
   ]
  },
  {
   "cell_type": "code",
   "execution_count": 65,
   "metadata": {},
   "outputs": [
    {
     "data": {
      "text/plain": [
       "5    71864\n",
       "4     2036\n",
       "6     1486\n",
       "2     1272\n",
       "3      798\n",
       "Name: CLASE, dtype: int64"
      ]
     },
     "execution_count": 65,
     "metadata": {},
     "output_type": "execute_result"
    }
   ],
   "source": [
    "cl_df_o[\"CLASE\"].value_counts()\n"
   ]
  },
  {
   "cell_type": "code",
   "execution_count": 60,
   "metadata": {},
   "outputs": [
    {
     "name": "stdout",
     "output_type": "stream",
     "text": [
      "AGRICULTURE 0.3 % of the dataset without outliers\n",
      "AGRICULTURE 0.3 % of the dataset\n",
      "INDUSTRIAL 4.33 % of the dataset\n",
      "INDUSTRIAL 4.33 % of the dataset\n",
      "OFFICE 1.73 % of the dataset\n",
      "OTHER 1.29 % of the dataset\n",
      "PUBLIC 2.83 % of the dataset\n",
      "RESIDENTIAL 87.5 % of the dataset\n",
      "RETAIL 2.01 % of the dataset\n"
     ]
    }
   ],
   "source": [
    "print('AGRICULTURE', round(cl_df['CLASE'].value_counts()[0]/len(cl_df) * 100,2), '% of the dataset without outliers')\n",
    "print('AGRICULTURE', round(df['CLASE'].value_counts()[0]/len(df) * 100,2), '% of the dataset')\n",
    "\n",
    "print('INDUSTRIAL', round(df['CLASE'].value_counts()[1]/len(df) * 100,2), '% of the dataset')\n",
    "print('INDUSTRIAL', round(df['CLASE'].value_counts()[1]/len(df) * 100,2), '% of the dataset')\n",
    "\n",
    "print('OFFICE', round(df['CLASE'].value_counts()[2]/len(df) * 100,2), '% of the dataset')\n",
    "\n",
    "print('OTHER', round(df['CLASE'].value_counts()[3]/len(df) * 100,2), '% of the dataset')\n",
    "\n",
    "print('PUBLIC', round(df['CLASE'].value_counts()[4]/len(df) * 100,2), '% of the dataset')\n",
    "\n",
    "print('RESIDENTIAL', round(df['CLASE'].value_counts()[5]/len(df) * 100,2), '% of the dataset')\n",
    "\n",
    "print('RETAIL', round(df['CLASE'].value_counts()[6]/len(df) * 100,2), '% of the dataset')\n"
   ]
  },
  {
   "cell_type": "code",
   "execution_count": 19,
   "metadata": {},
   "outputs": [],
   "source": []
  },
  {
   "cell_type": "markdown",
   "metadata": {},
   "source": [
    "### Separo dataset, e igualo distribuciones\n"
   ]
  },
  {
   "cell_type": "code",
   "execution_count": 20,
   "metadata": {},
   "outputs": [],
   "source": [
    "# Use a utility from sklearn to split and shuffle our dataset.\n",
    "train_df, test_df = train_test_split(cl_df_o, test_size=0.2)\n",
    "train_df, val_df = train_test_split(train_df, test_size=0.3)\n",
    "\n",
    "# Form np arrays of labels and features.\n",
    "train_labels = np.array(train_df.pop('CLASE'))\n",
    "bool_train_labels = train_labels != 0\n",
    "val_labels = np.array(val_df.pop('CLASE'))\n",
    "test_labels = np.array(test_df.pop('CLASE'))\n",
    "\n",
    "train_features = np.array(train_df)\n",
    "val_features = np.array(val_df)\n",
    "test_features = np.array(test_df)"
   ]
  },
  {
   "cell_type": "code",
   "execution_count": null,
   "metadata": {},
   "outputs": [],
   "source": []
  },
  {
   "cell_type": "markdown",
   "metadata": {},
   "source": [
    "Normalize the input features using the sklearn StandardScaler. This will set the mean to 0 and standard deviation to 1."
   ]
  },
  {
   "cell_type": "code",
   "execution_count": 21,
   "metadata": {
    "scrolled": true
   },
   "outputs": [
    {
     "name": "stdout",
     "output_type": "stream",
     "text": [
      "Training labels shape: (57631,)\n",
      "Validation labels shape: (24700,)\n",
      "Test labels shape: (20583,)\n",
      "Training features shape: (57631, 53)\n",
      "Validation features shape: (24700, 53)\n",
      "Test features shape: (20583, 53)\n"
     ]
    }
   ],
   "source": [
    "scaler = StandardScaler()\n",
    "train_features = scaler.fit_transform(train_features)\n",
    "\n",
    "val_features = scaler.transform(val_features)\n",
    "test_features = scaler.transform(test_features)\n",
    "\n",
    "train_features = np.clip(train_features, -5, 5)\n",
    "val_features = np.clip(val_features, -5, 5)\n",
    "test_features = np.clip(test_features, -5, 5)\n",
    "\n",
    "\n",
    "print('Training labels shape:', train_labels.shape)\n",
    "print('Validation labels shape:', val_labels.shape)\n",
    "print('Test labels shape:', test_labels.shape)\n",
    "\n",
    "print('Training features shape:', train_features.shape)\n",
    "print('Validation features shape:', val_features.shape)\n",
    "print('Test features shape:', test_features.shape)"
   ]
  },
  {
   "cell_type": "markdown",
   "metadata": {},
   "source": [
    "# KNN sin hacer resampling"
   ]
  },
  {
   "cell_type": "code",
   "execution_count": 31,
   "metadata": {},
   "outputs": [],
   "source": [
    "classifier = KNeighborsClassifier(n_neighbors = 9, p = 2, metric = \"euclidean\")"
   ]
  },
  {
   "cell_type": "code",
   "execution_count": 32,
   "metadata": {},
   "outputs": [
    {
     "data": {
      "text/plain": [
       "KNeighborsClassifier(algorithm='auto', leaf_size=30, metric='euclidean',\n",
       "                     metric_params=None, n_jobs=None, n_neighbors=9, p=2,\n",
       "                     weights='uniform')"
      ]
     },
     "execution_count": 32,
     "metadata": {},
     "output_type": "execute_result"
    }
   ],
   "source": [
    "classifier.fit(train_features, train_labels)"
   ]
  },
  {
   "cell_type": "code",
   "execution_count": 33,
   "metadata": {},
   "outputs": [],
   "source": [
    "label_pred = classifier.predict(test_features)"
   ]
  },
  {
   "cell_type": "code",
   "execution_count": 34,
   "metadata": {},
   "outputs": [
    {
     "name": "stdout",
     "output_type": "stream",
     "text": [
      "[[   26     1     5   210     1]\n",
      " [    1    23     7   126     0]\n",
      " [   17     7    29   385     1]\n",
      " [   18     8    30 14309     5]\n",
      " [    1     1    12   236    33]]\n"
     ]
    }
   ],
   "source": [
    "cm = confusion_matrix(test_labels, label_pred)\n",
    "print(cm)"
   ]
  },
  {
   "cell_type": "code",
   "execution_count": 35,
   "metadata": {},
   "outputs": [
    {
     "name": "stdout",
     "output_type": "stream",
     "text": [
      "0.9308029950942421\n"
     ]
    }
   ],
   "source": [
    "print(accuracy_score(test_labels, label_pred))"
   ]
  },
  {
   "cell_type": "markdown",
   "metadata": {},
   "source": [
    "## Oversampling ADASYN"
   ]
  },
  {
   "cell_type": "code",
   "execution_count": 36,
   "metadata": {},
   "outputs": [],
   "source": [
    "Xtr_resampled, ytr_resampled = ADASYN().fit_resample(train_features, train_labels)\n",
    "Xval_resampled, yval_resampled = ADASYN().fit_resample(val_features, val_labels)\n",
    "Xtst_resampled, ytst_resampled = ADASYN().fit_resample(test_features, test_labels)"
   ]
  },
  {
   "cell_type": "code",
   "execution_count": 37,
   "metadata": {},
   "outputs": [],
   "source": [
    "classifier = KNeighborsClassifier(n_neighbors = 9, p = 2, metric = \"euclidean\")\n",
    "classifier.fit(Xtr_resampled, ytr_resampled)\n",
    "label_pred_resampled = classifier.predict(Xtst_resampled)\n"
   ]
  },
  {
   "cell_type": "code",
   "execution_count": 38,
   "metadata": {
    "scrolled": true
   },
   "outputs": [
    {
     "name": "stdout",
     "output_type": "stream",
     "text": [
      "[[ 5945   642  2826  2900  2087]\n",
      " [ 1237  6055  3274  2471  1384]\n",
      " [ 2192  1699  5458  2656  2417]\n",
      " [  994   382  1249 10546  1199]\n",
      " [ 2063   775  2282  4452  4830]]\n"
     ]
    }
   ],
   "source": [
    "cm_res = confusion_matrix(ytst_resampled, label_pred_resampled)\n",
    "print(cm_res)"
   ]
  },
  {
   "cell_type": "code",
   "execution_count": 39,
   "metadata": {},
   "outputs": [
    {
     "name": "stdout",
     "output_type": "stream",
     "text": [
      "0.45593279177949037\n"
     ]
    }
   ],
   "source": [
    "print(accuracy_score(ytst_resampled, label_pred_resampled))"
   ]
  },
  {
   "cell_type": "markdown",
   "metadata": {},
   "source": [
    "#### Basura"
   ]
  },
  {
   "cell_type": "code",
   "execution_count": null,
   "metadata": {},
   "outputs": [],
   "source": []
  },
  {
   "cell_type": "markdown",
   "metadata": {},
   "source": [
    "### Segundo intento de resampling - SMOTE"
   ]
  },
  {
   "cell_type": "code",
   "execution_count": 40,
   "metadata": {},
   "outputs": [],
   "source": [
    "Xtr_resampled1, ytr_resampled1 = SMOTE().fit_resample(train_features, train_labels)\n",
    "Xval_resampled1, yval_resampled1 = SMOTE().fit_resample(val_features, val_labels)\n",
    "Xtst_resampled1, ytst_resampled1 = SMOTE().fit_resample(test_features, test_labels)\n",
    "\n",
    "classifier = KNeighborsClassifier(n_neighbors = 9, p = 2, metric = \"euclidean\")\n",
    "classifier.fit(Xtr_resampled1, ytr_resampled1)\n",
    "label_pred_resampled1 = classifier.predict(Xtst_resampled1)"
   ]
  },
  {
   "cell_type": "code",
   "execution_count": 41,
   "metadata": {},
   "outputs": [
    {
     "name": "stdout",
     "output_type": "stream",
     "text": [
      "[[ 6213   590  2700  2684  2183]\n",
      " [ 1238  6094  3325  2311  1402]\n",
      " [ 2156  1733  5650  2483  2348]\n",
      " [  965   372  1190 10691  1152]\n",
      " [ 1878   627  2125  4183  5557]]\n"
     ]
    }
   ],
   "source": [
    "cm_res1 = confusion_matrix(ytst_resampled1, label_pred_resampled1)\n",
    "print(cm_res1)"
   ]
  },
  {
   "cell_type": "code",
   "execution_count": 42,
   "metadata": {},
   "outputs": [
    {
     "name": "stdout",
     "output_type": "stream",
     "text": [
      "0.47606123869171885\n"
     ]
    }
   ],
   "source": [
    "print(accuracy_score(ytst_resampled1, label_pred_resampled1))"
   ]
  },
  {
   "cell_type": "markdown",
   "metadata": {},
   "source": [
    "#### Más basura"
   ]
  },
  {
   "cell_type": "code",
   "execution_count": null,
   "metadata": {},
   "outputs": [],
   "source": []
  },
  {
   "cell_type": "markdown",
   "metadata": {},
   "source": [
    "### A la tercera va la vencida"
   ]
  },
  {
   "cell_type": "code",
   "execution_count": 48,
   "metadata": {},
   "outputs": [],
   "source": [
    "over_sampler = RandomOverSampler()\n",
    "x_train_over, y_train_over = over_sampler.fit_sample(train_features, train_labels)\n",
    "\n",
    "classifier = KNeighborsClassifier(n_neighbors = 9, p = 10, metric = \"euclidean\")\n",
    "classifier.fit(x_train_over, y_train_over)\n",
    "label_pred_resampled2 = classifier.predict(x_train_over)"
   ]
  },
  {
   "cell_type": "code",
   "execution_count": 49,
   "metadata": {
    "scrolled": true
   },
   "outputs": [
    {
     "name": "stdout",
     "output_type": "stream",
     "text": [
      "[[50426     0     0     0     0     0     0]\n",
      " [    0 50426     0     0     0     0     0]\n",
      " [    0     0 50426     0     0     0     0]\n",
      " [    0     0     0 50426     0     0     0]\n",
      " [    0     0     0     0 50426     0     0]\n",
      " [   43  1544  1326   532  2076 43214  1691]\n",
      " [    0     0     0     0     0     0 50426]]\n"
     ]
    }
   ],
   "source": [
    "cm_res2 = confusion_matrix(y_train_over, label_pred_resampled2)\n",
    "print(cm_res2)"
   ]
  },
  {
   "cell_type": "code",
   "execution_count": 50,
   "metadata": {},
   "outputs": [
    {
     "name": "stdout",
     "output_type": "stream",
     "text": [
      "0.9795683632593163\n"
     ]
    }
   ],
   "source": [
    "print(accuracy_score(y_train_over, label_pred_resampled2))"
   ]
  },
  {
   "cell_type": "markdown",
   "metadata": {},
   "source": [
    "# SIUUUUUU"
   ]
  },
  {
   "cell_type": "markdown",
   "metadata": {},
   "source": [
    "### Esto está bien??"
   ]
  },
  {
   "cell_type": "markdown",
   "metadata": {},
   "source": [
    "## 97,94% ?????"
   ]
  },
  {
   "cell_type": "code",
   "execution_count": 51,
   "metadata": {},
   "outputs": [],
   "source": [
    "#Lo paso por Validation"
   ]
  },
  {
   "cell_type": "code",
   "execution_count": 52,
   "metadata": {},
   "outputs": [],
   "source": [
    "label_pred_val1 = classifier.predict(val_features)"
   ]
  },
  {
   "cell_type": "code",
   "execution_count": 53,
   "metadata": {},
   "outputs": [
    {
     "name": "stdout",
     "output_type": "stream",
     "text": [
      "0.7798785425101215\n"
     ]
    }
   ],
   "source": [
    "print(accuracy_score(val_labels, label_pred_val1))"
   ]
  },
  {
   "cell_type": "code",
   "execution_count": 54,
   "metadata": {},
   "outputs": [
    {
     "name": "stdout",
     "output_type": "stream",
     "text": [
      "[[   46     8     2     1     2     8     2]\n",
      " [   14   635    81    21    66   176    72]\n",
      " [    1    91   116    10    38   117    41]\n",
      " [    0    40    18   128    41    59    13]\n",
      " [    4    64    71    55   245   258    62]\n",
      " [   27   740   677   257  1084 17959   884]\n",
      " [    1    66    40    14    41   170   134]]\n"
     ]
    }
   ],
   "source": [
    "cm_res4 = confusion_matrix(val_labels, label_pred_val1)\n",
    "print(cm_res4)"
   ]
  },
  {
   "cell_type": "markdown",
   "metadata": {},
   "source": [
    "### Not bad... but not good enough"
   ]
  },
  {
   "cell_type": "code",
   "execution_count": 55,
   "metadata": {},
   "outputs": [],
   "source": [
    "label_pred_test = classifier.predict(test_features)"
   ]
  },
  {
   "cell_type": "code",
   "execution_count": 56,
   "metadata": {},
   "outputs": [
    {
     "name": "stdout",
     "output_type": "stream",
     "text": [
      "0.7831219938784434\n"
     ]
    }
   ],
   "source": [
    "print(accuracy_score(test_labels, label_pred_test))"
   ]
  },
  {
   "cell_type": "code",
   "execution_count": 57,
   "metadata": {},
   "outputs": [
    {
     "name": "stdout",
     "output_type": "stream",
     "text": [
      "[[   37    16     1     0     3    10     2]\n",
      " [    7   557    72    20    49   128    44]\n",
      " [    1    70    93     7    45   115    48]\n",
      " [    3    35    14   116    38    61    14]\n",
      " [    6    47    47    45   173   179    57]\n",
      " [   10   590   605   210   857 15012   710]\n",
      " [    2    44    31    17    35   169   131]]\n"
     ]
    }
   ],
   "source": [
    "cm_test = confusion_matrix(test_labels, label_pred_test)\n",
    "print(cm_test)"
   ]
  },
  {
   "cell_type": "code",
   "execution_count": null,
   "metadata": {},
   "outputs": [],
   "source": []
  },
  {
   "cell_type": "markdown",
   "metadata": {},
   "source": [
    "### Hypertunning model parameters\n",
    "Busco para que n se entrena mejor mi modelo"
   ]
  },
  {
   "cell_type": "code",
   "execution_count": 47,
   "metadata": {},
   "outputs": [],
   "source": [
    "from sklearn.model_selection import GridSearchCV"
   ]
  },
  {
   "cell_type": "code",
   "execution_count": null,
   "metadata": {},
   "outputs": [],
   "source": [
    "knn2 = KNeighborsClassifier()\n",
    "#create a dictionary of all values we want to test for n_neighbors\n",
    "param_grid = {\"n_neighbors\": np.arange(1, 25)}\n",
    "#use gridsearch to test all values for n_neighbors\n",
    "knn_gscv = GridSearchCV(knn2, param_grid, cv=5)\n",
    "#fit model to data\n",
    "knn_gscv.fit(x_train_over, y_train_over)"
   ]
  },
  {
   "cell_type": "code",
   "execution_count": null,
   "metadata": {},
   "outputs": [],
   "source": [
    "knn_gscv.best_score_"
   ]
  },
  {
   "cell_type": "code",
   "execution_count": null,
   "metadata": {},
   "outputs": [],
   "source": []
  },
  {
   "cell_type": "code",
   "execution_count": null,
   "metadata": {},
   "outputs": [],
   "source": []
  },
  {
   "cell_type": "code",
   "execution_count": null,
   "metadata": {},
   "outputs": [],
   "source": []
  }
 ],
 "metadata": {
  "kernelspec": {
   "display_name": "Python 3",
   "language": "python",
   "name": "python3"
  },
  "language_info": {
   "codemirror_mode": {
    "name": "ipython",
    "version": 3
   },
   "file_extension": ".py",
   "mimetype": "text/x-python",
   "name": "python",
   "nbconvert_exporter": "python",
   "pygments_lexer": "ipython3",
   "version": "3.7.3"
  }
 },
 "nbformat": 4,
 "nbformat_minor": 4
}
