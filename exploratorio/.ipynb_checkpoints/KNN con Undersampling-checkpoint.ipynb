{
 "cells": [
  {
   "cell_type": "code",
   "execution_count": 40,
   "metadata": {},
   "outputs": [],
   "source": [
    "import pandas as pd\n",
    "import numpy as np\n",
    "from sklearn.model_selection import train_test_split\n",
    "from imblearn.under_sampling import ClusterCentroids\n",
    "from collections import Counter\n",
    "from sklearn.preprocessing import StandardScaler"
   ]
  },
  {
   "cell_type": "code",
   "execution_count": 57,
   "metadata": {},
   "outputs": [
    {
     "name": "stdout",
     "output_type": "stream",
     "text": [
      "Nº de resgistros nulos: 0\n",
      "\n",
      "\n",
      "Valores únicos en CADASTRALQUALITYID: ['2' '8' '5' '6' '4' '7' '3' 12 '1' '9' 11 10]\n",
      "\n",
      "\n",
      "CLASES: ['RESIDENTIAL' 'INDUSTRIAL' 'PUBLIC' 'OFFICE' 'OTHER' 'RETAIL'\n",
      " 'AGRICULTURE']\n",
      "CLASE en numérico: [5 1 4 2 3 6 0]\n",
      "\n",
      "\n",
      "Nº de observaciones por CLASE\n",
      "5    90173\n",
      "1     4486\n",
      "4     2976\n",
      "6     2092\n",
      "2     1828\n",
      "3     1332\n",
      "0      323\n",
      "Name: CLASE, dtype: int64\n",
      "\n",
      "\n",
      "Nº de observaciones mínimo por clase: 263\n",
      "5    72137\n",
      "1     3577\n",
      "4     2411\n",
      "6     1672\n",
      "2     1447\n",
      "3     1061\n",
      "0      263\n",
      "Name: CLASE, dtype: int64\n"
     ]
    }
   ],
   "source": [
    "df = pd.read_csv(\"Modelar_UH2020.txt\", sep = \"|\")\n",
    "\n",
    "df.dropna(inplace = True)\n",
    "print(f\"Nº de resgistros nulos: {df.isnull().sum().max()}\")\n",
    "print(\"\\n\")\n",
    "\n",
    "df[\"CADASTRALQUALITYID\"].replace(\"A\", 10, inplace = True)\n",
    "df[\"CADASTRALQUALITYID\"].replace(\"B\", 11, inplace = True)\n",
    "df[\"CADASTRALQUALITYID\"].replace(\"C\", 12, inplace = True)\n",
    "print(f\"Valores únicos en CADASTRALQUALITYID: {df.CADASTRALQUALITYID.unique()}\")\n",
    "print(\"\\n\")\n",
    "print(f\"CLASES: {df.CLASE.unique()}\")\n",
    "df.CLASE = pd.Categorical(df.CLASE)\n",
    "df.CLASE = df.CLASE.cat.codes\n",
    "print(f\"CLASE en numérico: {df.CLASE.unique()}\")\n",
    "print(\"\\n\")\n",
    "#Chequeo de \"no balanceo\"\n",
    "print(\"Nº de observaciones por CLASE\")\n",
    "print(df[\"CLASE\"].value_counts())\n",
    "\n",
    "df.drop(df[[\"ID\"]], axis = \"columns\", inplace = True)\n",
    "train_df, test_df = train_test_split(df, test_size=0.2)\n",
    "#train_df, val_df = train_test_split(train_df, test_size=0.3)\n",
    "\n",
    "print(\"\\n\")\n",
    "num_min = min(train_df[\"CLASE\"].value_counts())\n",
    "print(f\"Nº de observaciones mínimo por clase: {num_min}\")\n",
    "print(train_df[\"CLASE\"].value_counts())\n",
    "\n",
    "# Form np arrays of labels and features.\n",
    "train_y = np.array(train_df.pop('CLASE'))\n",
    "#bool_train_labels = train_labels != 0\n",
    "test_y = np.array(test_df.pop('CLASE'))\n",
    "\n",
    "train_X = np.array(train_df)\n",
    "test_X = np.array(test_df)"
   ]
  },
  {
   "cell_type": "code",
   "execution_count": 58,
   "metadata": {},
   "outputs": [
    {
     "data": {
      "text/html": [
       "<div>\n",
       "<style scoped>\n",
       "    .dataframe tbody tr th:only-of-type {\n",
       "        vertical-align: middle;\n",
       "    }\n",
       "\n",
       "    .dataframe tbody tr th {\n",
       "        vertical-align: top;\n",
       "    }\n",
       "\n",
       "    .dataframe thead th {\n",
       "        text-align: right;\n",
       "    }\n",
       "</style>\n",
       "<table border=\"1\" class=\"dataframe\">\n",
       "  <thead>\n",
       "    <tr style=\"text-align: right;\">\n",
       "      <th></th>\n",
       "      <th>X</th>\n",
       "      <th>Y</th>\n",
       "      <th>Q_R_4_0_0</th>\n",
       "      <th>Q_R_4_0_1</th>\n",
       "      <th>Q_R_4_0_2</th>\n",
       "      <th>Q_R_4_0_3</th>\n",
       "      <th>Q_R_4_0_4</th>\n",
       "      <th>Q_R_4_0_5</th>\n",
       "      <th>Q_R_4_0_6</th>\n",
       "      <th>Q_R_4_0_7</th>\n",
       "      <th>...</th>\n",
       "      <th>Q_NIR_8_1_0</th>\n",
       "      <th>AREA</th>\n",
       "      <th>GEOM_R1</th>\n",
       "      <th>GEOM_R2</th>\n",
       "      <th>GEOM_R3</th>\n",
       "      <th>GEOM_R4</th>\n",
       "      <th>CONTRUCTIONYEAR</th>\n",
       "      <th>MAXBUILDINGFLOOR</th>\n",
       "      <th>CADASTRALQUALITYID</th>\n",
       "      <th>CLASE</th>\n",
       "    </tr>\n",
       "  </thead>\n",
       "  <tbody>\n",
       "    <tr>\n",
       "      <th>0</th>\n",
       "      <td>2207357872</td>\n",
       "      <td>165920300</td>\n",
       "      <td>0.000000</td>\n",
       "      <td>443.001300</td>\n",
       "      <td>616.001697</td>\n",
       "      <td>746.998401</td>\n",
       "      <td>872.996472</td>\n",
       "      <td>1009.000946</td>\n",
       "      <td>1159.002319</td>\n",
       "      <td>1342.002466</td>\n",
       "      <td>...</td>\n",
       "      <td>10951.926645</td>\n",
       "      <td>144.426900</td>\n",
       "      <td>0.557237</td>\n",
       "      <td>0.067249</td>\n",
       "      <td>0.057372</td>\n",
       "      <td>0.853127</td>\n",
       "      <td>2002</td>\n",
       "      <td>0.0</td>\n",
       "      <td>2</td>\n",
       "      <td>5</td>\n",
       "    </tr>\n",
       "    <tr>\n",
       "      <th>1</th>\n",
       "      <td>2189757160</td>\n",
       "      <td>165463267</td>\n",
       "      <td>0.000059</td>\n",
       "      <td>443.899011</td>\n",
       "      <td>627.999060</td>\n",
       "      <td>770.001611</td>\n",
       "      <td>904.999988</td>\n",
       "      <td>1032.998474</td>\n",
       "      <td>1165.001636</td>\n",
       "      <td>1316.000110</td>\n",
       "      <td>...</td>\n",
       "      <td>7048.367637</td>\n",
       "      <td>38.342550</td>\n",
       "      <td>0.709884</td>\n",
       "      <td>0.125156</td>\n",
       "      <td>0.147929</td>\n",
       "      <td>1.181953</td>\n",
       "      <td>1949</td>\n",
       "      <td>1.0</td>\n",
       "      <td>8</td>\n",
       "      <td>5</td>\n",
       "    </tr>\n",
       "    <tr>\n",
       "      <th>2</th>\n",
       "      <td>2240147335</td>\n",
       "      <td>165690752</td>\n",
       "      <td>0.000000</td>\n",
       "      <td>353.502274</td>\n",
       "      <td>523.003601</td>\n",
       "      <td>644.001831</td>\n",
       "      <td>760.997131</td>\n",
       "      <td>876.999634</td>\n",
       "      <td>1006.997498</td>\n",
       "      <td>1168.995544</td>\n",
       "      <td>...</td>\n",
       "      <td>7013.073271</td>\n",
       "      <td>108.794384</td>\n",
       "      <td>0.517702</td>\n",
       "      <td>0.058268</td>\n",
       "      <td>0.081666</td>\n",
       "      <td>1.401552</td>\n",
       "      <td>1986</td>\n",
       "      <td>1.0</td>\n",
       "      <td>5</td>\n",
       "      <td>5</td>\n",
       "    </tr>\n",
       "    <tr>\n",
       "      <th>3</th>\n",
       "      <td>2227146459</td>\n",
       "      <td>165934099</td>\n",
       "      <td>0.000000</td>\n",
       "      <td>268.000613</td>\n",
       "      <td>376.999609</td>\n",
       "      <td>478.003784</td>\n",
       "      <td>575.001233</td>\n",
       "      <td>683.997742</td>\n",
       "      <td>809.005994</td>\n",
       "      <td>955.002960</td>\n",
       "      <td>...</td>\n",
       "      <td>6216.880538</td>\n",
       "      <td>155.224455</td>\n",
       "      <td>0.450871</td>\n",
       "      <td>0.053591</td>\n",
       "      <td>0.054201</td>\n",
       "      <td>1.011382</td>\n",
       "      <td>1999</td>\n",
       "      <td>1.0</td>\n",
       "      <td>2</td>\n",
       "      <td>5</td>\n",
       "    </tr>\n",
       "    <tr>\n",
       "      <th>4</th>\n",
       "      <td>2212350459</td>\n",
       "      <td>165681791</td>\n",
       "      <td>0.000000</td>\n",
       "      <td>318.997910</td>\n",
       "      <td>492.003845</td>\n",
       "      <td>632.999634</td>\n",
       "      <td>757.002197</td>\n",
       "      <td>882.999908</td>\n",
       "      <td>1019.008911</td>\n",
       "      <td>1175.993103</td>\n",
       "      <td>...</td>\n",
       "      <td>7092.767616</td>\n",
       "      <td>1789.873366</td>\n",
       "      <td>0.458819</td>\n",
       "      <td>0.012858</td>\n",
       "      <td>0.019936</td>\n",
       "      <td>1.550478</td>\n",
       "      <td>1966</td>\n",
       "      <td>8.0</td>\n",
       "      <td>6</td>\n",
       "      <td>5</td>\n",
       "    </tr>\n",
       "  </tbody>\n",
       "</table>\n",
       "<p>5 rows × 55 columns</p>\n",
       "</div>"
      ],
      "text/plain": [
       "            X          Y  Q_R_4_0_0   Q_R_4_0_1   Q_R_4_0_2   Q_R_4_0_3  \\\n",
       "0  2207357872  165920300   0.000000  443.001300  616.001697  746.998401   \n",
       "1  2189757160  165463267   0.000059  443.899011  627.999060  770.001611   \n",
       "2  2240147335  165690752   0.000000  353.502274  523.003601  644.001831   \n",
       "3  2227146459  165934099   0.000000  268.000613  376.999609  478.003784   \n",
       "4  2212350459  165681791   0.000000  318.997910  492.003845  632.999634   \n",
       "\n",
       "    Q_R_4_0_4    Q_R_4_0_5    Q_R_4_0_6    Q_R_4_0_7  ...   Q_NIR_8_1_0  \\\n",
       "0  872.996472  1009.000946  1159.002319  1342.002466  ...  10951.926645   \n",
       "1  904.999988  1032.998474  1165.001636  1316.000110  ...   7048.367637   \n",
       "2  760.997131   876.999634  1006.997498  1168.995544  ...   7013.073271   \n",
       "3  575.001233   683.997742   809.005994   955.002960  ...   6216.880538   \n",
       "4  757.002197   882.999908  1019.008911  1175.993103  ...   7092.767616   \n",
       "\n",
       "          AREA   GEOM_R1   GEOM_R2   GEOM_R3   GEOM_R4  CONTRUCTIONYEAR  \\\n",
       "0   144.426900  0.557237  0.067249  0.057372  0.853127             2002   \n",
       "1    38.342550  0.709884  0.125156  0.147929  1.181953             1949   \n",
       "2   108.794384  0.517702  0.058268  0.081666  1.401552             1986   \n",
       "3   155.224455  0.450871  0.053591  0.054201  1.011382             1999   \n",
       "4  1789.873366  0.458819  0.012858  0.019936  1.550478             1966   \n",
       "\n",
       "   MAXBUILDINGFLOOR  CADASTRALQUALITYID  CLASE  \n",
       "0               0.0                   2      5  \n",
       "1               1.0                   8      5  \n",
       "2               1.0                   5      5  \n",
       "3               1.0                   2      5  \n",
       "4               8.0                   6      5  \n",
       "\n",
       "[5 rows x 55 columns]"
      ]
     },
     "execution_count": 58,
     "metadata": {},
     "output_type": "execute_result"
    }
   ],
   "source": [
    "df.head()"
   ]
  },
  {
   "cell_type": "markdown",
   "metadata": {},
   "source": [
    "### Posibles estrategias:\n",
    "     (1) Undersample igualando el número de registros de todas las clases a la clase que menos registros tenga (la 0)\n",
    "     (2) Undersample de la mayoritaria (la 5 - Residential) hasta igualar a la segunda clase con más muestras (la 1)\n",
    "             el resto de clases: oversampling hasta igualar a la segunda.\n",
    "     (3) Oversampling de todas las minoritarias"
   ]
  },
  {
   "cell_type": "code",
   "execution_count": 59,
   "metadata": {},
   "outputs": [],
   "source": [
    "#Estrategia (1)"
   ]
  },
  {
   "cell_type": "code",
   "execution_count": 60,
   "metadata": {},
   "outputs": [],
   "source": [
    "cc = ClusterCentroids(random_state=0)"
   ]
  },
  {
   "cell_type": "code",
   "execution_count": 62,
   "metadata": {},
   "outputs": [],
   "source": [
    "train_X_resampled, train_y_resampled = cc.fit_resample(train_X, train_y)"
   ]
  },
  {
   "cell_type": "code",
   "execution_count": 63,
   "metadata": {},
   "outputs": [
    {
     "name": "stdout",
     "output_type": "stream",
     "text": [
      "[(0, 263), (1, 263), (2, 263), (3, 263), (4, 263), (5, 263), (6, 263)]\n"
     ]
    }
   ],
   "source": [
    "print(sorted(Counter(train_y_resampled).items()))"
   ]
  },
  {
   "cell_type": "code",
   "execution_count": 64,
   "metadata": {},
   "outputs": [
    {
     "name": "stdout",
     "output_type": "stream",
     "text": [
      "Training labels shape: (1841,)\n",
      "Test labels shape: (20642,)\n",
      "Training features shape: (1841, 54)\n",
      "Test features shape: (20642, 54)\n"
     ]
    }
   ],
   "source": [
    "scaler = StandardScaler()\n",
    "train_X = scaler.fit_transform(train_X_resampled)\n",
    "\n",
    "test_X = scaler.transform(test_X)\n",
    "\n",
    "train_X_resampled = np.clip(train_X_resampled, -5, 5)\n",
    "test_X = np.clip(test_X, -5, 5)\n",
    "\n",
    "\n",
    "print('Training labels shape:', train_y_resampled.shape)\n",
    "print('Test labels shape:', test_y.shape)\n",
    "\n",
    "print('Training features shape:', train_X_resampled.shape)\n",
    "print('Test features shape:', test_X.shape)"
   ]
  },
  {
   "cell_type": "code",
   "execution_count": null,
   "metadata": {},
   "outputs": [],
   "source": [
    "#Entrategia (2)"
   ]
  },
  {
   "cell_type": "code",
   "execution_count": null,
   "metadata": {},
   "outputs": [],
   "source": []
  },
  {
   "cell_type": "code",
   "execution_count": null,
   "metadata": {},
   "outputs": [],
   "source": []
  },
  {
   "cell_type": "code",
   "execution_count": null,
   "metadata": {},
   "outputs": [],
   "source": [
    "#Estrategia (3)"
   ]
  },
  {
   "cell_type": "code",
   "execution_count": null,
   "metadata": {},
   "outputs": [],
   "source": []
  },
  {
   "cell_type": "code",
   "execution_count": null,
   "metadata": {},
   "outputs": [],
   "source": []
  },
  {
   "cell_type": "markdown",
   "metadata": {},
   "source": [
    "### Decision Tree"
   ]
  },
  {
   "cell_type": "code",
   "execution_count": 66,
   "metadata": {},
   "outputs": [],
   "source": [
    "from sklearn.tree import DecisionTreeClassifier"
   ]
  },
  {
   "cell_type": "code",
   "execution_count": 81,
   "metadata": {},
   "outputs": [
    {
     "name": "stdout",
     "output_type": "stream",
     "text": [
      "Accuracy: 0.0436973161515357\n",
      "Confusion Metrix:\n",
      " [[  37  297  163  183  333 4630  148]\n",
      " [  16  299   40   43   71 9814  129]\n",
      " [   4  142  113   21   79 1216   54]\n",
      " [   2   82   35    7   41 1572   26]\n",
      " [   0    7    3    0    8   64    8]\n",
      " [   0   41   11   14   12  427   44]\n",
      " [   1   41   16    3   21  313   11]]\n"
     ]
    }
   ],
   "source": [
    "model_dt= DecisionTreeClassifier()\n",
    "#learning\n",
    "model_dt.fit(train_X_resampled,train_y_resampled)\n",
    "#Prediction\n",
    "dt_y_pred=model_dt.predict(test_X)\n",
    "#importing the metrics module\n",
    "from sklearn import metrics\n",
    "#evaluation(Accuracy)\n",
    "print(\"Accuracy:\",metrics.accuracy_score(dt_y_pred,test_y))\n",
    "#evaluation(Confusion Metrix)\n",
    "print(\"Confusion Metrix:\\n\",metrics.confusion_matrix(dt_y_pred,test_y))"
   ]
  },
  {
   "cell_type": "code",
   "execution_count": 82,
   "metadata": {},
   "outputs": [],
   "source": [
    "from sklearn.model_selection import GridSearchCV"
   ]
  },
  {
   "cell_type": "code",
   "execution_count": 83,
   "metadata": {},
   "outputs": [
    {
     "name": "stdout",
     "output_type": "stream",
     "text": [
      "Best Hyper Parameters: {'max_features': 'auto', 'min_samples_leaf': 1, 'min_samples_split': 15, 'random_state': 123}\n",
      "Accuracy: 0.0436973161515357\n",
      "Confusion Metrix:\n",
      " [[  37  297  163  183  333 4630  148]\n",
      " [  16  299   40   43   71 9814  129]\n",
      " [   4  142  113   21   79 1216   54]\n",
      " [   2   82   35    7   41 1572   26]\n",
      " [   0    7    3    0    8   64    8]\n",
      " [   0   41   11   14   12  427   44]\n",
      " [   1   41   16    3   21  313   11]]\n"
     ]
    }
   ],
   "source": [
    "#Hiperparametros\n",
    "\n",
    "params = {'max_features': ['auto', 'sqrt', 'log2'],\n",
    "          'min_samples_split': [2,3,4,5,6,7,8,9,10,11,12,13,14,15], \n",
    "          'min_samples_leaf':[1,2,3,4,5,6,7,8,9,10,11],\n",
    "          'random_state':[123]}\n",
    "#Making models with hyper parameters sets\n",
    "model_dt = GridSearchCV(model_dt, param_grid=params, n_jobs=-1)\n",
    "#Learning\n",
    "model_dt.fit(train_X_resampled,train_y_resampled)\n",
    "\n",
    "#The best hyper parameters set\n",
    "print(\"Best Hyper Parameters:\",model_dt.best_params_)\n",
    "#Prediction\n",
    "prediction=model_dt.predict(test_X)\n",
    "#importing the metrics module\n",
    "from sklearn import metrics\n",
    "#evaluation(Accuracy)\n",
    "print(\"Accuracy:\",metrics.accuracy_score(dt_y_pred,test_y))\n",
    "#evaluation(Confusion Metrix)\n",
    "print(\"Confusion Metrix:\\n\",metrics.confusion_matrix(dt_y_pred,test_y))"
   ]
  },
  {
   "cell_type": "code",
   "execution_count": 85,
   "metadata": {},
   "outputs": [
    {
     "name": "stdout",
     "output_type": "stream",
     "text": [
      "Accuracy: 0.03022962891192714\n",
      "Confusion Metrix:\n",
      " [[   2    4    2    0   10    9    1]\n",
      " [   2   90   26   15   37 3382   47]\n",
      " [   0   74   89   15   58 1380   45]\n",
      " [  29  210  105  115  212 5429  103]\n",
      " [  27  526  158  126  248 7756  223]\n",
      " [   0    4    0    0    0   80    1]\n",
      " [   0    1    1    0    0    0    0]]\n"
     ]
    }
   ],
   "source": [
    "model_dt1= DecisionTreeClassifier(max_features= 'auto',\n",
    "                                 min_samples_leaf= 1,\n",
    "                                 min_samples_split= 15,\n",
    "                                 random_state= 123)\n",
    "\n",
    "model_dt1.fit(train_X_resampled,train_y_resampled)\n",
    "#Prediction\n",
    "dt_y_pred=model_dt1.predict(test_X)\n",
    "#importing the metrics module\n",
    "from sklearn import metrics\n",
    "#evaluation(Accuracy)\n",
    "print(\"Accuracy:\",metrics.accuracy_score(dt_y_pred,test_y))\n",
    "#evaluation(Confusion Metrix)\n",
    "print(\"Confusion Metrix:\\n\",metrics.confusion_matrix(dt_y_pred,test_y))"
   ]
  },
  {
   "cell_type": "code",
   "execution_count": null,
   "metadata": {},
   "outputs": [],
   "source": [
    "#Estrategia (2): Oversampling a las minoritarias hasta igualar a la segunda. Undersampling a la mayoritaria."
   ]
  },
  {
   "cell_type": "code",
   "execution_count": null,
   "metadata": {},
   "outputs": [],
   "source": []
  },
  {
   "cell_type": "code",
   "execution_count": null,
   "metadata": {},
   "outputs": [],
   "source": []
  },
  {
   "cell_type": "code",
   "execution_count": null,
   "metadata": {},
   "outputs": [],
   "source": [
    "# Estrategia (3): Oversampling a todas."
   ]
  },
  {
   "cell_type": "code",
   "execution_count": null,
   "metadata": {},
   "outputs": [],
   "source": []
  },
  {
   "cell_type": "code",
   "execution_count": null,
   "metadata": {},
   "outputs": [],
   "source": []
  },
  {
   "cell_type": "markdown",
   "metadata": {},
   "source": [
    "### KNN"
   ]
  },
  {
   "cell_type": "code",
   "execution_count": 143,
   "metadata": {},
   "outputs": [],
   "source": [
    "from sklearn.neighbors import KNeighborsClassifier"
   ]
  },
  {
   "cell_type": "code",
   "execution_count": 153,
   "metadata": {},
   "outputs": [
    {
     "name": "stdout",
     "output_type": "stream",
     "text": [
      "Best leaf_size: 1\n",
      "Best p: 1\n",
      "Best n_neighbors: 1\n"
     ]
    }
   ],
   "source": [
    "#List Hyperparameters that we want to tune.\n",
    "leaf_size = list(range(1,50))\n",
    "n_neighbors = list(range(1,30))\n",
    "p=[1,2]\n",
    "#Convert to dictionary\n",
    "hyperparameters = dict(leaf_size=leaf_size, n_neighbors=n_neighbors, p=p)\n",
    "#Create new KNN object\n",
    "knn = KNeighborsClassifier()\n",
    "#Use GridSearch\n",
    "clf = GridSearchCV(knn, hyperparameters, cv=10)\n",
    "#Fit the model\n",
    "best_model = clf.fit(train_X_resampled,train_y_resampled)\n",
    "#Print The value of best Hyperparameters\n",
    "print('Best leaf_size:', best_model.best_estimator_.get_params()['leaf_size'])\n",
    "print('Best p:', best_model.best_estimator_.get_params()['p'])\n",
    "print('Best n_neighbors:', best_model.best_estimator_.get_params()['n_neighbors'])"
   ]
  },
  {
   "cell_type": "code",
   "execution_count": 154,
   "metadata": {},
   "outputs": [
    {
     "data": {
      "text/plain": [
       "0.47726993110236215"
      ]
     },
     "execution_count": 154,
     "metadata": {},
     "output_type": "execute_result"
    }
   ],
   "source": [
    "best_model.best_score_"
   ]
  },
  {
   "cell_type": "code",
   "execution_count": 155,
   "metadata": {},
   "outputs": [
    {
     "data": {
      "text/plain": [
       "GridSearchCV(cv=10, error_score=nan,\n",
       "             estimator=KNeighborsClassifier(algorithm='auto', leaf_size=30,\n",
       "                                            metric='minkowski',\n",
       "                                            metric_params=None, n_jobs=None,\n",
       "                                            n_neighbors=5, p=2,\n",
       "                                            weights='uniform'),\n",
       "             iid='deprecated', n_jobs=None,\n",
       "             param_grid={'leaf_size': [1, 2, 3, 4, 5, 6, 7, 8, 9, 10, 11, 12,\n",
       "                                       13, 14, 15, 16, 17, 18, 19, 20, 21, 22,\n",
       "                                       23, 24, 25, 26, 27, 28, 29, 30, ...],\n",
       "                         'n_neighbors': [1, 2, 3, 4, 5, 6, 7, 8, 9, 10, 11, 12,\n",
       "                                         13, 14, 15, 16, 17, 18, 19, 20, 21, 22,\n",
       "                                         23, 24, 25, 26, 27, 28, 29],\n",
       "                         'p': [1, 2]},\n",
       "             pre_dispatch='2*n_jobs', refit=True, return_train_score=False,\n",
       "             scoring=None, verbose=0)"
      ]
     },
     "execution_count": 155,
     "metadata": {},
     "output_type": "execute_result"
    }
   ],
   "source": [
    "best_model"
   ]
  },
  {
   "cell_type": "code",
   "execution_count": 159,
   "metadata": {},
   "outputs": [],
   "source": [
    "#Meto los parámetros obtenidos\n",
    "classifier = KNeighborsClassifier(algorithm='auto', leaf_size=30,\n",
    "                                            metric='minkowski',\n",
    "                                            metric_params=None, n_jobs=None,\n",
    "                                            n_neighbors=5, p=2,\n",
    "                                            weights='uniform')\n",
    "classifier.fit(train_X_resampled, train_y_resampled)\n",
    "label_pred = classifier.predict(train_X_resampled)"
   ]
  },
  {
   "cell_type": "code",
   "execution_count": 160,
   "metadata": {},
   "outputs": [],
   "source": [
    "from sklearn.metrics import confusion_matrix\n",
    "from sklearn.metrics import f1_score\n",
    "from sklearn.metrics import accuracy_score\n",
    "from sklearn.metrics import roc_auc_score"
   ]
  },
  {
   "cell_type": "code",
   "execution_count": 161,
   "metadata": {},
   "outputs": [
    {
     "name": "stdout",
     "output_type": "stream",
     "text": [
      "[[152   5   7  11   3   3   1]\n",
      " [  8 115   8   3   9  22  17]\n",
      " [ 12  22  92   8  20  13  15]\n",
      " [ 10  17  13 117  20   2   3]\n",
      " [  9  17  20  19  94  17   6]\n",
      " [  3   9  10   0   3 154   3]\n",
      " [  8  34  25   8  17  28  62]]\n"
     ]
    }
   ],
   "source": [
    "cm = confusion_matrix(train_y_resampled, label_pred)\n",
    "print(cm)"
   ]
  },
  {
   "cell_type": "code",
   "execution_count": null,
   "metadata": {},
   "outputs": [],
   "source": []
  },
  {
   "cell_type": "markdown",
   "metadata": {},
   "source": [
    "### Random Forest"
   ]
  },
  {
   "cell_type": "code",
   "execution_count": 87,
   "metadata": {},
   "outputs": [],
   "source": [
    "from sklearn.ensemble import RandomForestClassifier"
   ]
  },
  {
   "cell_type": "code",
   "execution_count": 88,
   "metadata": {},
   "outputs": [],
   "source": [
    "#Estrategia 1"
   ]
  },
  {
   "cell_type": "code",
   "execution_count": 89,
   "metadata": {},
   "outputs": [
    {
     "data": {
      "text/plain": [
       "RandomForestClassifier(bootstrap=True, ccp_alpha=0.0, class_weight=None,\n",
       "                       criterion='entropy', max_depth=None, max_features='auto',\n",
       "                       max_leaf_nodes=None, max_samples=None,\n",
       "                       min_impurity_decrease=0.0, min_impurity_split=None,\n",
       "                       min_samples_leaf=1, min_samples_split=2,\n",
       "                       min_weight_fraction_leaf=0.0, n_estimators=10,\n",
       "                       n_jobs=None, oob_score=False, random_state=42, verbose=0,\n",
       "                       warm_start=False)"
      ]
     },
     "execution_count": 89,
     "metadata": {},
     "output_type": "execute_result"
    }
   ],
   "source": [
    "classifier = RandomForestClassifier(n_estimators = 10, criterion = 'entropy', random_state = 42)\n",
    "classifier.fit(train_X_resampled, train_y_resampled)"
   ]
  },
  {
   "cell_type": "code",
   "execution_count": 93,
   "metadata": {},
   "outputs": [
    {
     "name": "stdout",
     "output_type": "stream",
     "text": [
      "Accuracy: 0.015308594128475923\n",
      "Confusion Metrix:\n",
      " [[  41  324  169  190  361 5214  158]\n",
      " [   4  134   26   17   30 4415   80]\n",
      " [   1  114   75    8   56 1083   31]\n",
      " [   4  206   97   27   81 3038   81]\n",
      " [   9  125   12   29   35 4162   67]\n",
      " [   1    0    0    0    0    1    0]\n",
      " [   0    6    2    0    2  123    3]]\n"
     ]
    }
   ],
   "source": [
    "model_rf=RandomForestClassifier(n_estimators = 10, criterion = 'entropy', random_state = 42)\n",
    "#learning\n",
    "model_rf.fit(train_X_resampled,train_y_resampled)\n",
    "#Prediction\n",
    "pred_rf=model_rf.predict(test_X)\n",
    "#importing the metrics module\n",
    "from sklearn import metrics\n",
    "#evaluation(Accuracy)\n",
    "print(\"Accuracy:\",metrics.accuracy_score(pred_rf,test_y))\n",
    "#evaluation(Confusion Metrix)\n",
    "print(\"Confusion Metrix:\\n\",metrics.confusion_matrix(pred_rf,test_y))"
   ]
  },
  {
   "cell_type": "code",
   "execution_count": 94,
   "metadata": {},
   "outputs": [
    {
     "name": "stdout",
     "output_type": "stream",
     "text": [
      "Best Hyper Parameters:\n",
      " {'criterion': 'entropy', 'min_samples_leaf': 1, 'min_samples_split': 7, 'n_estimators': 30, 'n_jobs': -1, 'random_state': 123}\n",
      "Accuracy: 0.01065788198817944\n",
      "Confusion Metrix:\n",
      " [[   53   592   227   221   428 10255   255]\n",
      " [    0     0     1     0     0     0     0]\n",
      " [    0    70    69    10    53  1033    36]\n",
      " [    7   245    83    39    82  6680   129]\n",
      " [    0     0     0     0     0     0     0]\n",
      " [    0     1     1     0     1    59     0]\n",
      " [    0     1     0     1     1     9     0]]\n"
     ]
    }
   ],
   "source": [
    "model_rf1=RandomForestClassifier()\n",
    "#hyper parameters set\n",
    "params = {'criterion':['gini','entropy'],\n",
    "          'n_estimators':[10,15,20,25,30],\n",
    "          'min_samples_leaf':[1,2,3],\n",
    "          'min_samples_split':[3,4,5,6,7], \n",
    "          'random_state':[123],\n",
    "          'n_jobs':[-1]}\n",
    "#Making models with hyper parameters sets\n",
    "model_rf1 = GridSearchCV(model_rf, param_grid=params, n_jobs=-1)\n",
    "#learning\n",
    "model_rf1.fit(train_X_resampled,train_y_resampled)\n",
    "#The best hyper parameters set\n",
    "print(\"Best Hyper Parameters:\\n\",model_rf1.best_params_)\n",
    "#Prediction\n",
    "prediction_rf1=model_rf1.predict(test_X)\n",
    "#importing the metrics module\n",
    "from sklearn import metrics\n",
    "#evaluation(Accuracy)\n",
    "print(\"Accuracy:\",metrics.accuracy_score(prediction_rf1,test_y))\n",
    "#evaluation(Confusion Metrix)\n",
    "print(\"Confusion Metrix:\\n\",metrics.confusion_matrix(prediction_rf1,test_y))"
   ]
  },
  {
   "cell_type": "code",
   "execution_count": null,
   "metadata": {},
   "outputs": [],
   "source": []
  },
  {
   "cell_type": "code",
   "execution_count": null,
   "metadata": {},
   "outputs": [],
   "source": []
  },
  {
   "cell_type": "markdown",
   "metadata": {},
   "source": [
    "### Gradient Boosting"
   ]
  },
  {
   "cell_type": "code",
   "execution_count": null,
   "metadata": {},
   "outputs": [],
   "source": []
  },
  {
   "cell_type": "code",
   "execution_count": null,
   "metadata": {},
   "outputs": [],
   "source": []
  },
  {
   "cell_type": "code",
   "execution_count": null,
   "metadata": {},
   "outputs": [],
   "source": []
  }
 ],
 "metadata": {
  "kernelspec": {
   "display_name": "Python 3.7.1 64-bit ('base': conda)",
   "language": "python",
   "name": "python37164bitbasecondafbbf9993afd04a5b9cc7caeb335224fb"
  },
  "language_info": {
   "codemirror_mode": {
    "name": "ipython",
    "version": 3
   },
   "file_extension": ".py",
   "mimetype": "text/x-python",
   "name": "python",
   "nbconvert_exporter": "python",
   "pygments_lexer": "ipython3",
   "version": "3.7.1"
  }
 },
 "nbformat": 4,
 "nbformat_minor": 4
}
