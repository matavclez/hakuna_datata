{
 "cells": [
  {
   "cell_type": "code",
   "execution_count": 41,
   "metadata": {},
   "outputs": [],
   "source": [
    "import numpy as np\n",
    "import pandas as pd\n",
    "from keras.models import Sequential\n",
    "from keras.layers import Dense\n",
    "from keras.wrappers.scikit_learn import KerasClassifier\n",
    "from keras.utils import np_utils\n",
    "from sklearn.model_selection import cross_val_score\n",
    "from sklearn.model_selection import KFold\n",
    "from sklearn.preprocessing import LabelEncoder\n",
    "from sklearn.pipeline import Pipeline"
   ]
  },
  {
   "cell_type": "code",
   "execution_count": 42,
   "metadata": {},
   "outputs": [
    {
     "data": {
      "text/html": [
       "<div>\n",
       "<style scoped>\n",
       "    .dataframe tbody tr th:only-of-type {\n",
       "        vertical-align: middle;\n",
       "    }\n",
       "\n",
       "    .dataframe tbody tr th {\n",
       "        vertical-align: top;\n",
       "    }\n",
       "\n",
       "    .dataframe thead th {\n",
       "        text-align: right;\n",
       "    }\n",
       "</style>\n",
       "<table border=\"1\" class=\"dataframe\">\n",
       "  <thead>\n",
       "    <tr style=\"text-align: right;\">\n",
       "      <th></th>\n",
       "      <th>ID</th>\n",
       "      <th>X</th>\n",
       "      <th>Y</th>\n",
       "      <th>Q_R_4_0_0</th>\n",
       "      <th>Q_R_4_0_1</th>\n",
       "      <th>Q_R_4_0_2</th>\n",
       "      <th>Q_R_4_0_3</th>\n",
       "      <th>Q_R_4_0_4</th>\n",
       "      <th>Q_R_4_0_5</th>\n",
       "      <th>Q_R_4_0_6</th>\n",
       "      <th>...</th>\n",
       "      <th>Q_NIR_8_1_0</th>\n",
       "      <th>AREA</th>\n",
       "      <th>GEOM_R1</th>\n",
       "      <th>GEOM_R2</th>\n",
       "      <th>GEOM_R3</th>\n",
       "      <th>GEOM_R4</th>\n",
       "      <th>CONTRUCTIONYEAR</th>\n",
       "      <th>MAXBUILDINGFLOOR</th>\n",
       "      <th>CADASTRALQUALITYID</th>\n",
       "      <th>CLASE</th>\n",
       "    </tr>\n",
       "  </thead>\n",
       "  <tbody>\n",
       "    <tr>\n",
       "      <th>0</th>\n",
       "      <td>35984B9C3E7CD9A1</td>\n",
       "      <td>2207357872</td>\n",
       "      <td>165920300</td>\n",
       "      <td>0.000000</td>\n",
       "      <td>443.001300</td>\n",
       "      <td>616.001697</td>\n",
       "      <td>746.998401</td>\n",
       "      <td>872.996472</td>\n",
       "      <td>1009.000946</td>\n",
       "      <td>1159.002319</td>\n",
       "      <td>...</td>\n",
       "      <td>10951.926645</td>\n",
       "      <td>144.426900</td>\n",
       "      <td>0.557237</td>\n",
       "      <td>0.067249</td>\n",
       "      <td>0.057372</td>\n",
       "      <td>0.853127</td>\n",
       "      <td>2002</td>\n",
       "      <td>0.0</td>\n",
       "      <td>2</td>\n",
       "      <td>RESIDENTIAL</td>\n",
       "    </tr>\n",
       "    <tr>\n",
       "      <th>1</th>\n",
       "      <td>F9D04BF6D037F8FB</td>\n",
       "      <td>2189757160</td>\n",
       "      <td>165463267</td>\n",
       "      <td>0.000059</td>\n",
       "      <td>443.899011</td>\n",
       "      <td>627.999060</td>\n",
       "      <td>770.001611</td>\n",
       "      <td>904.999988</td>\n",
       "      <td>1032.998474</td>\n",
       "      <td>1165.001636</td>\n",
       "      <td>...</td>\n",
       "      <td>7048.367637</td>\n",
       "      <td>38.342550</td>\n",
       "      <td>0.709884</td>\n",
       "      <td>0.125156</td>\n",
       "      <td>0.147929</td>\n",
       "      <td>1.181953</td>\n",
       "      <td>1949</td>\n",
       "      <td>1.0</td>\n",
       "      <td>8</td>\n",
       "      <td>RESIDENTIAL</td>\n",
       "    </tr>\n",
       "    <tr>\n",
       "      <th>2</th>\n",
       "      <td>B89D5711AFF8C423</td>\n",
       "      <td>2240147335</td>\n",
       "      <td>165690752</td>\n",
       "      <td>0.000000</td>\n",
       "      <td>353.502274</td>\n",
       "      <td>523.003601</td>\n",
       "      <td>644.001831</td>\n",
       "      <td>760.997131</td>\n",
       "      <td>876.999634</td>\n",
       "      <td>1006.997498</td>\n",
       "      <td>...</td>\n",
       "      <td>7013.073271</td>\n",
       "      <td>108.794384</td>\n",
       "      <td>0.517702</td>\n",
       "      <td>0.058268</td>\n",
       "      <td>0.081666</td>\n",
       "      <td>1.401552</td>\n",
       "      <td>1986</td>\n",
       "      <td>1.0</td>\n",
       "      <td>5</td>\n",
       "      <td>RESIDENTIAL</td>\n",
       "    </tr>\n",
       "    <tr>\n",
       "      <th>3</th>\n",
       "      <td>1C3478AC1522E7E4</td>\n",
       "      <td>2227146459</td>\n",
       "      <td>165934099</td>\n",
       "      <td>0.000000</td>\n",
       "      <td>268.000613</td>\n",
       "      <td>376.999609</td>\n",
       "      <td>478.003784</td>\n",
       "      <td>575.001233</td>\n",
       "      <td>683.997742</td>\n",
       "      <td>809.005994</td>\n",
       "      <td>...</td>\n",
       "      <td>6216.880538</td>\n",
       "      <td>155.224455</td>\n",
       "      <td>0.450871</td>\n",
       "      <td>0.053591</td>\n",
       "      <td>0.054201</td>\n",
       "      <td>1.011382</td>\n",
       "      <td>1999</td>\n",
       "      <td>1.0</td>\n",
       "      <td>2</td>\n",
       "      <td>RESIDENTIAL</td>\n",
       "    </tr>\n",
       "    <tr>\n",
       "      <th>4</th>\n",
       "      <td>4D12AA5009064345</td>\n",
       "      <td>2212350459</td>\n",
       "      <td>165681791</td>\n",
       "      <td>0.000000</td>\n",
       "      <td>318.997910</td>\n",
       "      <td>492.003845</td>\n",
       "      <td>632.999634</td>\n",
       "      <td>757.002197</td>\n",
       "      <td>882.999908</td>\n",
       "      <td>1019.008911</td>\n",
       "      <td>...</td>\n",
       "      <td>7092.767616</td>\n",
       "      <td>1789.873366</td>\n",
       "      <td>0.458819</td>\n",
       "      <td>0.012858</td>\n",
       "      <td>0.019936</td>\n",
       "      <td>1.550478</td>\n",
       "      <td>1966</td>\n",
       "      <td>8.0</td>\n",
       "      <td>6</td>\n",
       "      <td>RESIDENTIAL</td>\n",
       "    </tr>\n",
       "  </tbody>\n",
       "</table>\n",
       "<p>5 rows × 56 columns</p>\n",
       "</div>"
      ],
      "text/plain": [
       "                 ID           X          Y  Q_R_4_0_0   Q_R_4_0_1   Q_R_4_0_2  \\\n",
       "0  35984B9C3E7CD9A1  2207357872  165920300   0.000000  443.001300  616.001697   \n",
       "1  F9D04BF6D037F8FB  2189757160  165463267   0.000059  443.899011  627.999060   \n",
       "2  B89D5711AFF8C423  2240147335  165690752   0.000000  353.502274  523.003601   \n",
       "3  1C3478AC1522E7E4  2227146459  165934099   0.000000  268.000613  376.999609   \n",
       "4  4D12AA5009064345  2212350459  165681791   0.000000  318.997910  492.003845   \n",
       "\n",
       "    Q_R_4_0_3   Q_R_4_0_4    Q_R_4_0_5    Q_R_4_0_6  ...   Q_NIR_8_1_0  \\\n",
       "0  746.998401  872.996472  1009.000946  1159.002319  ...  10951.926645   \n",
       "1  770.001611  904.999988  1032.998474  1165.001636  ...   7048.367637   \n",
       "2  644.001831  760.997131   876.999634  1006.997498  ...   7013.073271   \n",
       "3  478.003784  575.001233   683.997742   809.005994  ...   6216.880538   \n",
       "4  632.999634  757.002197   882.999908  1019.008911  ...   7092.767616   \n",
       "\n",
       "          AREA   GEOM_R1   GEOM_R2   GEOM_R3   GEOM_R4  CONTRUCTIONYEAR  \\\n",
       "0   144.426900  0.557237  0.067249  0.057372  0.853127             2002   \n",
       "1    38.342550  0.709884  0.125156  0.147929  1.181953             1949   \n",
       "2   108.794384  0.517702  0.058268  0.081666  1.401552             1986   \n",
       "3   155.224455  0.450871  0.053591  0.054201  1.011382             1999   \n",
       "4  1789.873366  0.458819  0.012858  0.019936  1.550478             1966   \n",
       "\n",
       "   MAXBUILDINGFLOOR  CADASTRALQUALITYID        CLASE  \n",
       "0               0.0                   2  RESIDENTIAL  \n",
       "1               1.0                   8  RESIDENTIAL  \n",
       "2               1.0                   5  RESIDENTIAL  \n",
       "3               1.0                   2  RESIDENTIAL  \n",
       "4               8.0                   6  RESIDENTIAL  \n",
       "\n",
       "[5 rows x 56 columns]"
      ]
     },
     "execution_count": 42,
     "metadata": {},
     "output_type": "execute_result"
    }
   ],
   "source": [
    "df = pd.read_csv(\"Modelar_UH2020.txt\", sep = \"|\")\n",
    "df.head()"
   ]
  },
  {
   "cell_type": "code",
   "execution_count": 43,
   "metadata": {},
   "outputs": [],
   "source": [
    "df.dropna(inplace = True)\n",
    "df.isnull().sum().max()\n",
    "\n",
    "df = df[df[\"CADASTRALQUALITYID\"]!=\"A\"]\n",
    "df = df[df[\"CADASTRALQUALITYID\"]!=\"B\"]\n",
    "df = df[df[\"CADASTRALQUALITYID\"]!=\"C\"]\n",
    "\n",
    "df.drop(df[[\"ID\", \"CADASTRALQUALITYID\"]], axis = \"columns\", inplace = True)"
   ]
  },
  {
   "cell_type": "code",
   "execution_count": 44,
   "metadata": {},
   "outputs": [
    {
     "data": {
      "text/plain": [
       "(102914, 54)"
      ]
     },
     "execution_count": 44,
     "metadata": {},
     "output_type": "execute_result"
    }
   ],
   "source": [
    "df.shape"
   ]
  },
  {
   "cell_type": "code",
   "execution_count": 63,
   "metadata": {},
   "outputs": [],
   "source": [
    "X = df.iloc[:, 0:53]\n",
    "Y = df.iloc[:, -1]"
   ]
  },
  {
   "cell_type": "code",
   "execution_count": null,
   "metadata": {},
   "outputs": [],
   "source": [
    "from sklearn.preprocessing import StandardScaler\n",
    "\n",
    "scaler = StandardScaler()\n",
    "df = scaler.fit_transform(df)"
   ]
  },
  {
   "cell_type": "code",
   "execution_count": null,
   "metadata": {},
   "outputs": [],
   "source": [
    "from sklearn.model_selection import train_test_split\n",
    "train_df, test_df = train_test_split(df, test_size=0.2)\n",
    "train_df, val_df = train_test_split(train_df, test_size=0.3)"
   ]
  },
  {
   "cell_type": "code",
   "execution_count": null,
   "metadata": {},
   "outputs": [],
   "source": [
    "train_X = df.iloc[:, 0:53]\n",
    "train_Y = df.iloc[:, -1]"
   ]
  },
  {
   "cell_type": "code",
   "execution_count": null,
   "metadata": {},
   "outputs": [],
   "source": []
  },
  {
   "cell_type": "code",
   "execution_count": null,
   "metadata": {},
   "outputs": [],
   "source": []
  },
  {
   "cell_type": "code",
   "execution_count": 64,
   "metadata": {},
   "outputs": [],
   "source": [
    "input_nn = train_X.shape[1]"
   ]
  },
  {
   "cell_type": "code",
   "execution_count": 65,
   "metadata": {},
   "outputs": [],
   "source": [
    "output_nn = len(df[\"CLASE\"].unique())"
   ]
  },
  {
   "cell_type": "code",
   "execution_count": 66,
   "metadata": {},
   "outputs": [],
   "source": [
    "encoder = LabelEncoder()\n",
    "encoder.fit(train_Y)\n",
    "encoded_Y = encoder.transform(train_Y)\n",
    "# convert integers to dummy variables (i.e. one hot encoded)\n",
    "dummy_y = np_utils.to_categorical(encoded_Y)"
   ]
  },
  {
   "cell_type": "code",
   "execution_count": 69,
   "metadata": {},
   "outputs": [],
   "source": [
    "# define baseline model\n",
    "def baseline_model():\n",
    "    # create model\n",
    "    model = Sequential()\n",
    "    model.add(Dense(8, input_dim=input_nn, activation='relu'))\n",
    "    model.add(Dense(output_nn, activation='softmax'))\n",
    "    # Compile model\n",
    "    model.compile(loss='categorical_crossentropy', optimizer='adam', metrics=['accuracy'])\n",
    "    return model"
   ]
  },
  {
   "cell_type": "code",
   "execution_count": 70,
   "metadata": {},
   "outputs": [],
   "source": [
    "estimator = KerasClassifier(build_fn=baseline_model, epochs=200, batch_size=5, verbose=0)"
   ]
  },
  {
   "cell_type": "code",
   "execution_count": 71,
   "metadata": {},
   "outputs": [],
   "source": [
    "kfold = KFold(n_splits=10, shuffle=True)"
   ]
  },
  {
   "cell_type": "code",
   "execution_count": null,
   "metadata": {},
   "outputs": [],
   "source": [
    "results = cross_val_score(estimator, train_X, dummy_y, cv=kfold)\n",
    "print(\"Baseline: %.2f%% (%.2f%%)\" % (results.mean()*100, results.std()*100))"
   ]
  },
  {
   "cell_type": "code",
   "execution_count": null,
   "metadata": {},
   "outputs": [],
   "source": []
  },
  {
   "cell_type": "code",
   "execution_count": null,
   "metadata": {},
   "outputs": [],
   "source": []
  },
  {
   "cell_type": "code",
   "execution_count": null,
   "metadata": {},
   "outputs": [],
   "source": []
  },
  {
   "cell_type": "code",
   "execution_count": null,
   "metadata": {},
   "outputs": [],
   "source": []
  }
 ],
 "metadata": {
  "kernelspec": {
   "display_name": "Python 3",
   "language": "python",
   "name": "python3"
  },
  "language_info": {
   "codemirror_mode": {
    "name": "ipython",
    "version": 3
   },
   "file_extension": ".py",
   "mimetype": "text/x-python",
   "name": "python",
   "nbconvert_exporter": "python",
   "pygments_lexer": "ipython3",
   "version": "3.7.3"
  }
 },
 "nbformat": 4,
 "nbformat_minor": 2
}
